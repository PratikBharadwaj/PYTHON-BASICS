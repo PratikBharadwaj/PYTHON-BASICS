{
 "cells": [
  {
   "cell_type": "markdown",
   "id": "f19f9849",
   "metadata": {},
   "source": [
    "# String_operations_and_Regex"
   ]
  },
  {
   "cell_type": "code",
   "execution_count": null,
   "id": "7ca97fdb",
   "metadata": {},
   "outputs": [],
   "source": [
    "import re"
   ]
  },
  {
   "cell_type": "code",
   "execution_count": null,
   "id": "5bf22fcf",
   "metadata": {},
   "outputs": [],
   "source": [
    "s1='Welcome to Python Programming'\n",
    "print(s1)"
   ]
  },
  {
   "cell_type": "code",
   "execution_count": null,
   "id": "efa97146",
   "metadata": {},
   "outputs": [],
   "source": [
    "s1=\"Welcome to Python Programming\"\n",
    "print(s1)"
   ]
  },
  {
   "cell_type": "code",
   "execution_count": null,
   "id": "f4d29367",
   "metadata": {},
   "outputs": [],
   "source": [
    "s1='Welcome to\\tPython\\tProgramming'\n",
    "print(s1)"
   ]
  },
  {
   "cell_type": "code",
   "execution_count": null,
   "id": "5450699d",
   "metadata": {},
   "outputs": [],
   "source": [
    "s1='Welcome to\\nPython\\n Programming'\n",
    "print(s1)"
   ]
  },
  {
   "cell_type": "code",
   "execution_count": 1,
   "id": "7e4749e4",
   "metadata": {},
   "outputs": [
    {
     "name": "stdout",
     "output_type": "stream",
     "text": [
      "Core P\n"
     ]
    }
   ],
   "source": [
    "str='Core Python'\n",
    "print(str[0:6:1])"
   ]
  },
  {
   "cell_type": "code",
   "execution_count": 4,
   "id": "e875b7d0",
   "metadata": {},
   "outputs": [
    {
     "name": "stdout",
     "output_type": "stream",
     "text": [
      "nohtyP eroC\n"
     ]
    }
   ],
   "source": [
    "print(str[::-1])"
   ]
  },
  {
   "cell_type": "code",
   "execution_count": null,
   "id": "d0981e70",
   "metadata": {},
   "outputs": [],
   "source": [
    "str='Core Python'\n",
    "print(str[0:9:2])\n"
   ]
  },
  {
   "cell_type": "code",
   "execution_count": null,
   "id": "c11303db",
   "metadata": {},
   "outputs": [],
   "source": [
    "print(str[::])"
   ]
  },
  {
   "cell_type": "code",
   "execution_count": null,
   "id": "ba7124fb",
   "metadata": {},
   "outputs": [],
   "source": [
    "print(str[:4:])#stepsize=1 "
   ]
  },
  {
   "cell_type": "code",
   "execution_count": null,
   "id": "02403a15",
   "metadata": {},
   "outputs": [],
   "source": [
    "print(str[-4:-1]) #left to right str[-4] to str[-2] #exclude endindex"
   ]
  },
  {
   "cell_type": "code",
   "execution_count": null,
   "id": "46cfbccc",
   "metadata": {},
   "outputs": [],
   "source": [
    "print(str[-1:-4:-1])#right to left"
   ]
  },
  {
   "cell_type": "code",
   "execution_count": null,
   "id": "a820ae7a",
   "metadata": {},
   "outputs": [],
   "source": [
    "print(str[-1::-1])"
   ]
  },
  {
   "cell_type": "code",
   "execution_count": null,
   "id": "0e4d0ae5",
   "metadata": {},
   "outputs": [],
   "source": [
    "#Concatenate\n",
    "s1='Core'\n",
    "s2=\"Python\"\n",
    "s3=s2+s1  \n",
    "print(s3)"
   ]
  },
  {
   "cell_type": "code",
   "execution_count": null,
   "id": "52f8443a",
   "metadata": {},
   "outputs": [],
   "source": [
    "s1='Core'\n",
    "s2=\"Python\"\n",
    "s3=s1+s2\n",
    "print(s3)"
   ]
  },
  {
   "cell_type": "code",
   "execution_count": null,
   "id": "cd2bb187",
   "metadata": {},
   "outputs": [],
   "source": [
    "str=input(\"Enter main string\")\n",
    "sub=input(\"Enter sub string\")\n",
    "if sub in str:\n",
    "    print(sub+\" is found in string\")\n",
    "else:\n",
    "    print(sub+\" is not found in string\")\n",
    "    "
   ]
  },
  {
   "cell_type": "code",
   "execution_count": null,
   "id": "c4545772",
   "metadata": {},
   "outputs": [],
   "source": [
    "#finding substrings\n",
    "str=input(\"Enter main string\")\n",
    "sub=input(\"Enter sub string\")\n",
    "n=str.find(sub, 0 ,len(str))\n",
    "if n==-1:\n",
    "    print(sub+\" is not found in string\")\n",
    "else:\n",
    "    print(sub+\" sub string found at position\",n+1)\n",
    "    \n"
   ]
  },
  {
   "cell_type": "code",
   "execution_count": null,
   "id": "afa68736",
   "metadata": {},
   "outputs": [],
   "source": [
    "str= \"New Delhi\"\n",
    "n=str.count(\"Delhi\")#count of substring\n",
    "print(n)"
   ]
  },
  {
   "cell_type": "code",
   "execution_count": null,
   "id": "03aa60a8",
   "metadata": {},
   "outputs": [],
   "source": [
    "str= \"New Delhi\"\n",
    "n=str.count('i', 0, len(str))#0th to 2nd character\n",
    "print(n)"
   ]
  },
  {
   "cell_type": "code",
   "execution_count": null,
   "id": "22cebfb5",
   "metadata": {},
   "outputs": [],
   "source": [
    "str=\"This is a good book\"\n",
    "s1=\"good\"\n",
    "s2=\"wonderful\"\n",
    "str1=str.replace(s1,s2)\n",
    "print(str1)"
   ]
  },
  {
   "cell_type": "code",
   "execution_count": null,
   "id": "e73d3ead",
   "metadata": {},
   "outputs": [],
   "source": [
    "str=input('Enter numbers separated by space')\n",
    "lst=str.split(' ')\n",
    "for i in lst:\n",
    "    print(i)"
   ]
  },
  {
   "cell_type": "code",
   "execution_count": null,
   "id": "daf904c1",
   "metadata": {},
   "outputs": [],
   "source": [
    "str=('one','two', 'three')\n",
    "str1=\"-\".join(str)\n",
    "print(str1)"
   ]
  },
  {
   "cell_type": "code",
   "execution_count": null,
   "id": "91fdb2c5",
   "metadata": {},
   "outputs": [],
   "source": [
    "str=['one','two', 'three']\n",
    "str1=\":\".join(str)\n",
    "print(str1)"
   ]
  },
  {
   "cell_type": "code",
   "execution_count": null,
   "id": "611d7de0",
   "metadata": {},
   "outputs": [],
   "source": [
    "str= 'This is a normal\\nstring'\n",
    "print(str)"
   ]
  },
  {
   "cell_type": "code",
   "execution_count": null,
   "id": "0b4d342f",
   "metadata": {},
   "outputs": [],
   "source": [
    "str=r'This is a raw\\nstring'\n",
    "print(str)"
   ]
  },
  {
   "cell_type": "code",
   "execution_count": null,
   "id": "bb2fdaea",
   "metadata": {},
   "outputs": [],
   "source": [
    "import re\n",
    "reg=r'm\\w\\w'#2 characters starting with m\n",
    "prog=re.compile(r'm\\w\\w')"
   ]
  },
  {
   "cell_type": "code",
   "execution_count": null,
   "id": "15003d2b",
   "metadata": {},
   "outputs": [],
   "source": [
    "str='cat mat bat rat'\n",
    "result=prog.search(str)\n",
    "print(result.group())"
   ]
  },
  {
   "cell_type": "code",
   "execution_count": null,
   "id": "9aa3b22f",
   "metadata": {},
   "outputs": [],
   "source": [
    "str1='Operating System format'\n",
    "result=prog.search(str1)\n",
    "print(result.group())"
   ]
  },
  {
   "cell_type": "code",
   "execution_count": 6,
   "id": "dc1db4bc",
   "metadata": {},
   "outputs": [],
   "source": [
    "import regex as re"
   ]
  },
  {
   "cell_type": "code",
   "execution_count": 8,
   "id": "7023678d",
   "metadata": {},
   "outputs": [
    {
     "ename": "AttributeError",
     "evalue": "'NoneType' object has no attribute 'group'",
     "output_type": "error",
     "traceback": [
      "\u001b[1;31m---------------------------------------------------------------------------\u001b[0m",
      "\u001b[1;31mAttributeError\u001b[0m                            Traceback (most recent call last)",
      "\u001b[1;32m~\\AppData\\Local\\Temp\\ipykernel_16040\\2179073174.py\u001b[0m in \u001b[0;36m<module>\u001b[1;34m\u001b[0m\n\u001b[0;32m      1\u001b[0m \u001b[0mstr\u001b[0m\u001b[1;33m=\u001b[0m\u001b[1;34m'man sun run cat mat'\u001b[0m\u001b[1;33m\u001b[0m\u001b[1;33m\u001b[0m\u001b[0m\n\u001b[0;32m      2\u001b[0m \u001b[0mresult\u001b[0m\u001b[1;33m=\u001b[0m\u001b[0mre\u001b[0m\u001b[1;33m.\u001b[0m\u001b[0mmatch\u001b[0m\u001b[1;33m(\u001b[0m\u001b[1;34mr'$m[\\w][\\w]++'\u001b[0m\u001b[1;33m,\u001b[0m \u001b[0mstr\u001b[0m\u001b[1;33m)\u001b[0m\u001b[1;33m\u001b[0m\u001b[1;33m\u001b[0m\u001b[0m\n\u001b[1;32m----> 3\u001b[1;33m \u001b[0mprint\u001b[0m\u001b[1;33m(\u001b[0m\u001b[0mresult\u001b[0m\u001b[1;33m.\u001b[0m\u001b[0mgroup\u001b[0m\u001b[1;33m(\u001b[0m\u001b[1;33m)\u001b[0m\u001b[1;33m)\u001b[0m\u001b[1;33m\u001b[0m\u001b[1;33m\u001b[0m\u001b[0m\n\u001b[0m",
      "\u001b[1;31mAttributeError\u001b[0m: 'NoneType' object has no attribute 'group'"
     ]
    }
   ],
   "source": [
    "str='man sun run cat mat'\n",
    "result=re.match(r'm\\w\\w', str)\n",
    "print(result.group())"
   ]
  },
  {
   "cell_type": "code",
   "execution_count": null,
   "id": "af7e1ff2",
   "metadata": {},
   "outputs": [],
   "source": [
    "#re.split(r'\\W+',str) \n",
    "#w--> any one alphanumberic character A-Z,a-z.0-9\n",
    "#W-->anything but letter\n",
    "#+-->to match one or more occurrences indicated by W."
   ]
  },
  {
   "cell_type": "code",
   "execution_count": null,
   "id": "ee944f96",
   "metadata": {},
   "outputs": [],
   "source": [
    "import re\n",
    "str='Java:C++:Python'\n",
    "result=re.split(r'\\W+',str)\n",
    "print(result)"
   ]
  },
  {
   "cell_type": "code",
   "execution_count": null,
   "id": "f360c2aa",
   "metadata": {},
   "outputs": [],
   "source": [
    "str='Chennai weather is very hot and humid'\n",
    "res=re.sub(r'humid','harsh',str)\n",
    "print(res)"
   ]
  },
  {
   "cell_type": "code",
   "execution_count": null,
   "id": "bb6e3ec6",
   "metadata": {},
   "outputs": [],
   "source": [
    "#Parsing and Processing URL using Python – Regex\n",
    "str='The meeting will be conducted on 1st and 31st of every month'\n",
    "result=re.findall(r'\\d[\\w]*',str)\n",
    "print(result)"
   ]
  },
  {
   "cell_type": "code",
   "execution_count": null,
   "id": "64f6dd76",
   "metadata": {},
   "outputs": [],
   "source": [
    "str='The meeting will be conducted on 1st and 31st of every month'\n",
    "result=re.findall(r'\\d[\\w]*',str)\n",
    "for word in result:\n",
    "    print(word)\n"
   ]
  },
  {
   "cell_type": "code",
   "execution_count": null,
   "id": "70ba9691",
   "metadata": {},
   "outputs": [],
   "source": [
    "import re\n",
    "lines = open(\"C:/Users/sofia/OneDrive/Documents/python_notepad.txt\", \"r\").readlines()\n",
    "for line in lines:\n",
    "    if re.search(r\"Python\", line):\n",
    "        print(line, end=\"\")"
   ]
  },
  {
   "cell_type": "code",
   "execution_count": null,
   "id": "95de8dec",
   "metadata": {},
   "outputs": [],
   "source": [
    "#parsing and processing urls using validation\n",
    "import re\n",
    "\n",
    "# url link\n",
    "s = 'https://www.deeplearning.org/'\n",
    "\n",
    "# finding the protocol\n",
    "obj1 = re.findall('(\\w+)://',s)\n",
    "print(obj1)\n",
    "\n",
    "# finding the hostname which may\n",
    "# contain dash or dots\n",
    "obj2 = re.findall('://www.([\\w\\-\\.]+)',s)\n",
    "print(obj2)\n"
   ]
  },
  {
   "cell_type": "code",
   "execution_count": null,
   "id": "2acf48b5",
   "metadata": {},
   "outputs": [],
   "source": [
    "# import library\n",
    "import re\n",
    "\n",
    "# url link\n",
    "s = 'file://localhost:4040/abc_file'\n",
    "\n",
    "# finding the file capture group\n",
    "obj1 = re.findall('(\\w+)://', s)\n",
    "print(obj1)\n",
    "\n",
    "# finding the hostname which may\n",
    "# contain dash or dots\n",
    "obj2 = re.findall('://([\\w\\-\\.]+)', s)\n",
    "print(obj2)\n",
    "\n",
    "# finding the hostname which may\n",
    "# contain dash or dots or port\n",
    "# number\n",
    "obj3 = re.findall('://([\\w\\-\\.]+)(:(\\d+))?', s)\n",
    "print(obj3)\n"
   ]
  },
  {
   "cell_type": "code",
   "execution_count": null,
   "id": "bc9e8761",
   "metadata": {},
   "outputs": [],
   "source": [
    "# import library\n",
    "import re\n",
    "\n",
    "# url\n",
    "s = 'http://www.example.com/index.html'\n",
    "\n",
    "# searching for all capture groups\n",
    "obj = re.findall('(\\w+)://([\\w\\-\\.]+)/(\\w+).(\\w+)',s)\n",
    "\n",
    "print(obj)\n"
   ]
  },
  {
   "cell_type": "code",
   "execution_count": null,
   "id": "094e6924",
   "metadata": {},
   "outputs": [],
   "source": [
    "#Email processing\n",
    "fh = open(r\"C:/Users/sofia/OneDrive/Documents/python_files/test_emails.txt\", \"r\").read()"
   ]
  },
  {
   "cell_type": "code",
   "execution_count": null,
   "id": "fbcbda91",
   "metadata": {},
   "outputs": [],
   "source": [
    "for line in fh.split(\"n\"):\n",
    "    if \"From:\" in line:\n",
    "        print(line)"
   ]
  },
  {
   "cell_type": "code",
   "execution_count": null,
   "id": "53b1c607",
   "metadata": {},
   "outputs": [],
   "source": [
    "import re\n",
    "\n",
    "for line in re.findall(\"From:.*\", fh):\n",
    "    print(line)"
   ]
  },
  {
   "cell_type": "code",
   "execution_count": null,
   "id": "807c27a6",
   "metadata": {},
   "outputs": [],
   "source": [
    "for line in re.findall(\"From:.*\", fh):\n",
    "    print(line)"
   ]
  },
  {
   "cell_type": "code",
   "execution_count": null,
   "id": "29f5067d",
   "metadata": {},
   "outputs": [],
   "source": [
    "#re.split()\n",
    "address = re.findall(\"From:.*\", fh)\n",
    "for item in address:\n",
    "    for line in re.findall(\"\\w\\S*@.*\\w\", item):\n",
    "        username, domain_name = re.split(\"@\", line)#@symbol is delimiter\n",
    "        print(\"{}, {}\".format(username, domain_name))"
   ]
  },
  {
   "cell_type": "code",
   "execution_count": null,
   "id": "4aebadeb",
   "metadata": {},
   "outputs": [],
   "source": [
    "#re.sub()\n",
    "sender = re.search(\"From:.*\", fh)\n",
    "address = sender.group()\n",
    "email = re.sub(\"From\", \"Email\", address)\n",
    "print(address)\n",
    "print(email)"
   ]
  },
  {
   "cell_type": "code",
   "execution_count": null,
   "id": "456bd846",
   "metadata": {},
   "outputs": [],
   "source": [
    "#re.search()\n",
    "match = re.search(\"From:.*\", fh)\n",
    "print(type(match))\n",
    "print(type(match.group()))#group() converts the match object into a string.\n",
    "print(match)\n",
    "print(match.group())"
   ]
  },
  {
   "cell_type": "code",
   "execution_count": null,
   "id": "a0a8a9c9",
   "metadata": {},
   "outputs": [],
   "source": [
    "#Preparing the script\n",
    "import re\n",
    "import pandas as pd\n",
    "import email\n",
    "\n",
    "emails = []\n",
    "\n",
    "fh = open(r\"C:/Users/sofia/OneDrive/Documents/python_files/test_emails.txt\", \"r\").read()"
   ]
  },
  {
   "cell_type": "code",
   "execution_count": null,
   "id": "9dd76927",
   "metadata": {},
   "outputs": [],
   "source": [
    "for item in contents:\n",
    "    emails_dict = {}"
   ]
  },
  {
   "cell_type": "code",
   "execution_count": null,
   "id": "20f1a690",
   "metadata": {},
   "outputs": [],
   "source": [
    "for item in contents:\n",
    "# First two lines again so that Jupyter runs the code.\n",
    "    emails_dict = {}\n",
    "\n",
    "# Find sender's email address and name.\n",
    "\n",
    "    # Step 1: find the whole line beginning with \"From:\".\n",
    "    sender = re.search(r\"From:.*\", item)"
   ]
  },
  {
   "cell_type": "code",
   "execution_count": null,
   "id": "d35ea1b8",
   "metadata": {},
   "outputs": [],
   "source": [
    "# Step 2: find the email address and name.\n",
    "if sender is not None:\n",
    "    s_email = re.search(r\"\\w\\S*@.*\\w\", sender.group())\n",
    "    s_name = re.search(r\":.*<\", sender.group())\n",
    "else:\n",
    "    s_email = None\n",
    "    s_name = None"
   ]
  },
  {
   "cell_type": "code",
   "execution_count": null,
   "id": "680b0674",
   "metadata": {},
   "outputs": [],
   "source": [
    "print(\"sender type: \" + str(type(sender)))\n",
    "print(\"sender.group() type: \" + str(type(sender.group())))\n",
    "print(\"sender: \" + str(sender))\n",
    "print(\"sender.group(): \" + str(sender.group()))\n",
    "print(\"n\")"
   ]
  },
  {
   "cell_type": "code",
   "execution_count": null,
   "id": "5c9b6f64",
   "metadata": {},
   "outputs": [],
   "source": [
    "# Step 3A: assign email address as string to a variable.\n",
    "if s_email is not None:\n",
    "    sender_email = s_email.group()\n",
    "else:\n",
    "    sender_email = None\n",
    "# Add email address to dictionary.\n",
    "emails_dict[\"sender_email\"] = sender_email"
   ]
  },
  {
   "cell_type": "code",
   "execution_count": null,
   "id": "27ddf64a",
   "metadata": {},
   "outputs": [],
   "source": [
    "# Step 3B: remove unwanted substrings, assign to variable.\n",
    "if s_name is not None:\n",
    "    sender_name = re.sub(\"s*<\", \"\", re.sub(\":s*\", \"\", s_name.group()))\n",
    "else:\n",
    "    sender_name = None\n",
    "\n",
    "# Add sender's name to dictionary.\n",
    "emails_dict[\"sender_name\"] = sender_name"
   ]
  },
  {
   "cell_type": "code",
   "execution_count": null,
   "id": "1dafb8e9",
   "metadata": {},
   "outputs": [],
   "source": [
    "print(sender_email)\n",
    "print(sender_name)"
   ]
  },
  {
   "cell_type": "code",
   "execution_count": null,
   "id": "1e92b78f",
   "metadata": {},
   "outputs": [],
   "source": [
    "import re\n",
    "import pandas as pd\n",
    "import email\n",
    "\n",
    "emails = []\n",
    "\n",
    "fh = open(r\"C:/Users/sofia/OneDrive/Documents/python_files/test_emails.txt\", \"r\").read()\n",
    "\n",
    "contents = re.split(r\"From r\",fh)\n",
    "contents.pop(0)\n",
    "\n",
    "for item in contents:\n",
    "    emails_dict = {}\n",
    "\n",
    "    sender = re.search(r\"From:.*\", item)\n",
    "\n",
    "    if sender is not None:\n",
    "        s_email = re.search(r\"\\w\\S*@.*\\w\", sender.group())\n",
    "        s_name = re.search(r\":.*<\", sender.group())\n",
    "    else:\n",
    "        s_email = None\n",
    "        s_name = None\n",
    "\n",
    "    if s_email is not None:\n",
    "        sender_email = s_email.group()\n",
    "    else:\n",
    "        sender_email = None\n",
    "\n",
    "    emails_dict[\"sender_email\"] = sender_email\n",
    "\n",
    "    if s_name is not None:\n",
    "        sender_name = re.sub(\"\\s*<\", \"\", re.sub(\":\\s*\", \"\", s_name.group()))\n",
    "    else:\n",
    "        sender_name = None\n",
    "\n",
    "    emails_dict[\"sender_name\"] = sender_name\n",
    "\n",
    "    recipient = re.search(r\"To:.*\", item)\n",
    "\n",
    "    if recipient is not None:\n",
    "        r_email = re.search(r\"\\w\\S*@.*\\w\", recipient.group())\n",
    "        r_name = re.search(r\":.*<\", recipient.group())\n",
    "    else:\n",
    "        r_email = None\n",
    "        r_name = None\n",
    "\n",
    "    if r_email is not None:\n",
    "        recipient_email = r_email.group()\n",
    "    else:\n",
    "        recipient_email = None\n",
    "    emails_dict[\"recipient_email\"] = recipient_email\n",
    "\n",
    "    if r_name is not None:\n",
    "        recipient_name = re.sub(\"s*<\", \"\", re.sub(\":s*\", \"\", r_name.group()))\n",
    "    else:\n",
    "        recipient_name = None\n",
    "\n",
    "    emails_dict[\"recipient_name\"] = recipient_name\n",
    "\n",
    "    date_field = re.search(r\"Date:.*\", item)\n",
    "\n",
    "    if date_field is not None:\n",
    "        date = re.search(r\"\\d+\\s\\w+\\s\\d+\", date_field.group())\n",
    "    else:\n",
    "        date = None\n",
    "\n",
    "    if date is not None:\n",
    "        date_sent = date.group()\n",
    "    else:\n",
    "        date_sent = None\n",
    "\n",
    "    emails_dict[\"date_sent\"] = date_sent\n",
    "\n",
    "    subject_field = re.search(r\"Subject: .*\", item)\n",
    "\n",
    "    if subject_field is not None:\n",
    "        subject = re.sub(r\"Subject: \", \"\", subject_field.group())\n",
    "    else:\n",
    "        subject = None\n",
    "\n",
    "    emails_dict[\"subject\"] = subject\n",
    "\n",
    "    # \"item\" substituted with \"email content here\" so full email not\n",
    "# displayed.\n",
    "\n",
    "    full_email = email.message_from_string(item)\n",
    "    body = full_email.get_payload()\n",
    "    emails_dict[\"email_body\"] = \"email body here\"\n",
    "\n",
    "    emails.append(emails_dict)\n",
    "# Print number of dictionaries, and hence, emails, in the list.\n",
    "print(\"Number of emails: \" + str(len(emails_dict)))\n",
    "\n",
    "print(\"n\")\n",
    "\n",
    "# Print first item in the emails list to see how it looks.\n",
    "for key, value in emails[0].items():\n",
    "    print(str(key) + \": \" + str(emails[0][key]))"
   ]
  },
  {
   "cell_type": "code",
   "execution_count": null,
   "id": "1cf334c3",
   "metadata": {},
   "outputs": [],
   "source": [
    "# import re\n",
    "\n",
    "# Target String one\n",
    "str1 = \"Kathy's luck numbers are 251 761 231 451\"\n",
    "\n",
    "# pattern to find three consecutive digits\n",
    "string_pattern = r\"\\d{3}\"\n",
    "# compile string pattern to re.Pattern object\n",
    "regex_pattern = re.compile(string_pattern)\n",
    "#It compiles a regular expression pattern provided as a string into a regex pattern object.\n",
    "\n",
    "# print the type of compiled pattern\n",
    "print(type(regex_pattern))\n",
    "# Output <class 're.Pattern'>\n",
    "\n",
    "# find all the matches in string one\n",
    "result = regex_pattern.findall(str1)\n",
    "print(result)\n",
    "\n",
    "\n",
    "# Target String two\n",
    "str2 = \"Kelly's luck numbers are 111 212 415\"\n",
    "# find all the matches in second string by reusing the same pattern\n",
    "result = regex_pattern.findall(str2)\n",
    "print(result)"
   ]
  },
  {
   "cell_type": "code",
   "execution_count": null,
   "id": "19d5b6c9",
   "metadata": {},
   "outputs": [],
   "source": [
    "\"\"\"\n",
    "Conditions for a valid password are:\n",
    "Should have at least one number.\n",
    "Should have at least one uppercase and one lowercase character.\n",
    "Should have at least one special symbol.\n",
    "Should be between 6 to 20 characters long.\n",
    "\"\"\"\""
   ]
  },
  {
   "cell_type": "code",
   "execution_count": null,
   "id": "795293e8",
   "metadata": {},
   "outputs": [],
   "source": [
    "#Password validation\n",
    "import re\n",
    " \n",
    "def main():\n",
    "    passwd = 'Python12#'\n",
    "    reg = \"^(?=.*[a-z])(?=.*[A-Z])(?=.*\\d)(?=.*[@$!%*#?&])[A-Za-z\\d@$!#%*?&]{6,20}$\"\n",
    "     \n",
    "    # compiling regex\n",
    "    pat = re.compile(reg)\n",
    "     \n",
    "    # searching regex                \n",
    "    mat = re.search(pat, passwd)\n",
    "     \n",
    "    # validating conditions\n",
    "    if mat:\n",
    "        print(\"Password is valid.\")\n",
    "    else:\n",
    "        print(\"Password invalid !!\")\n",
    " \n",
    "# Driver Code    \n",
    "if __name__ == '__main__':\n",
    "    main()"
   ]
  },
  {
   "cell_type": "code",
   "execution_count": null,
   "id": "b5e7957a",
   "metadata": {},
   "outputs": [],
   "source": []
  }
 ],
 "metadata": {
  "kernelspec": {
   "display_name": "Python 3 (ipykernel)",
   "language": "python",
   "name": "python3"
  },
  "language_info": {
   "codemirror_mode": {
    "name": "ipython",
    "version": 3
   },
   "file_extension": ".py",
   "mimetype": "text/x-python",
   "name": "python",
   "nbconvert_exporter": "python",
   "pygments_lexer": "ipython3",
   "version": "3.9.13"
  }
 },
 "nbformat": 4,
 "nbformat_minor": 5
}
