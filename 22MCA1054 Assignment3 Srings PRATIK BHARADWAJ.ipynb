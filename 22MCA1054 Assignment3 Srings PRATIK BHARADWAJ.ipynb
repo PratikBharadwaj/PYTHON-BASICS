{
 "cells": [
  {
   "cell_type": "markdown",
   "id": "06afd907",
   "metadata": {},
   "source": [
    "# STRING"
   ]
  },
  {
   "cell_type": "markdown",
   "id": "ecb6f0dd",
   "metadata": {},
   "source": [
    "# SOLUTION A \n"
   ]
  },
  {
   "cell_type": "markdown",
   "id": "2a3ab925",
   "metadata": {},
   "source": [
    "# QA.\n",
    "\n",
    "# You have a string \"Hello, World!\".\n",
    "\n",
    "# 1.How can you convert it to all uppercase letters?"
   ]
  },
  {
   "cell_type": "code",
   "execution_count": null,
   "id": "60475aad",
   "metadata": {},
   "outputs": [],
   "source": [
    "string =\"Hello, World!\"\n",
    "res=string.upper()\n",
    "print(res)"
   ]
  },
  {
   "cell_type": "markdown",
   "id": "7a55e4c4",
   "metadata": {},
   "source": [
    "# 2. How can you replace all occurrences of the letter \"o\" with the letter \"a\"?"
   ]
  },
  {
   "cell_type": "code",
   "execution_count": null,
   "id": "9a9cde81",
   "metadata": {},
   "outputs": [],
   "source": [
    "y=string.replace('o','a')\n",
    "print(y)"
   ]
  },
  {
   "cell_type": "markdown",
   "id": "8c4b9b8b",
   "metadata": {},
   "source": [
    "# 3.How can you check if the string starts with the letter \"h\"?"
   ]
  },
  {
   "cell_type": "code",
   "execution_count": null,
   "id": "637085ef",
   "metadata": {},
   "outputs": [],
   "source": [
    "x=string.startswith('h')\n",
    "print(x)"
   ]
  },
  {
   "cell_type": "markdown",
   "id": "89320b74",
   "metadata": {},
   "source": [
    "# 4.How can you concatenate them into a single string \"hello world\"?"
   ]
  },
  {
   "cell_type": "code",
   "execution_count": null,
   "id": "c21ea739",
   "metadata": {},
   "outputs": [],
   "source": [
    "p=\"hello\"\n",
    "q=\"world\"\n",
    "print(p+q)"
   ]
  },
  {
   "cell_type": "markdown",
   "id": "588db1ac",
   "metadata": {},
   "source": [
    "# QB.\n",
    "\n",
    "# Write a program that takes your full name as input and displays the\n",
    "\n",
    "# abbreviations of the first and middle names except the last name which is\n",
    "\n",
    "# displayed as it is. For example, if your name is Robert Brett Roser, then the\n",
    "\n",
    "# output should be R.B.Roser."
   ]
  },
  {
   "cell_type": "code",
   "execution_count": null,
   "id": "757bc3b9",
   "metadata": {},
   "outputs": [],
   "source": [
    "fname =input('enter first name ')\n",
    "mname=input('enter middle name ')\n",
    "lname =input('enter last name')\n",
    "abrre=fname[:1]+'.'+mname[:1]+'.'+lname\n",
    "print(abrre)"
   ]
  },
  {
   "cell_type": "markdown",
   "id": "175f2fef",
   "metadata": {},
   "source": [
    "# QC.\n",
    "\n",
    "# Write a program to check if the two strings entered by user are anagrams or not. Two words are said to be anagrams if the letters of one word can be rearranged to form the other word. For example, jaxa and ajax are anagrams of each other."
   ]
  },
  {
   "cell_type": "code",
   "execution_count": null,
   "id": "42a67686",
   "metadata": {
    "scrolled": true
   },
   "outputs": [],
   "source": [
    "string1=input(\"enter first string \")\n",
    "string2=input(\"enter second string \")\n",
    "if(sorted(string1)==sorted(string2)):\n",
    "  print(f\"{string1} and {string2} are anargams\")\n",
    "else:\n",
    "   print(f\"{string1} and {string2} are not anargams \");"
   ]
  },
  {
   "cell_type": "markdown",
   "id": "d6abd45f",
   "metadata": {},
   "source": [
    "# QD.\n",
    "\n",
    "# Given a string \"Python supports multiple programming paradigms, including\n",
    "\n",
    "# structured, object-oriented and functional programming\"\n",
    "\n",
    "# 1.Write a program to display the largest and smallest word from the string"
   ]
  },
  {
   "cell_type": "code",
   "execution_count": null,
   "id": "a7bc4bd5",
   "metadata": {},
   "outputs": [],
   "source": [
    "def smallestWord(s):\n",
    "      \n",
    "   \n",
    "    s=s.split()\n",
    " \n",
    "    print(f\"smallest word of the string is :\",min(s,key=len))\n",
    "    \n",
    "    print(f\"largest word  of the  string is :\",max(s,key=len))\n",
    "   \n",
    "  \n",
    "s= \"Python support smultipe programming paradigms, including structured, object-oriented and functional programming\"\n",
    "smallestWord(s)"
   ]
  },
  {
   "cell_type": "markdown",
   "id": "226c44ea",
   "metadata": {},
   "source": [
    "# 2.Develop a program to accept the above string and display it in uppercase"
   ]
  },
  {
   "cell_type": "code",
   "execution_count": null,
   "id": "e43bf9c3",
   "metadata": {
    "scrolled": true
   },
   "outputs": [],
   "source": [
    "s= \"Python support smultipe programming paradigms, including structured, object-oriented and functional programming\"\n",
    "print(s.upper())"
   ]
  },
  {
   "cell_type": "markdown",
   "id": "f076f849",
   "metadata": {},
   "source": [
    "# 3.Display the unique and common words present in the string"
   ]
  },
  {
   "cell_type": "code",
   "execution_count": null,
   "id": "bb13c56d",
   "metadata": {},
   "outputs": [],
   "source": [
    "string = \"Python support smultipe programming paradigms, including structured, object-oriented and functional programming\"\n",
    "\n",
    "words = string.split()\n",
    "\n",
    "unique_words = set()\n",
    "common_words = set()\n",
    "for word in words:\n",
    "    if words.count(word) > 1:\n",
    "        common_words.add(word)\n",
    "    else:\n",
    "        unique_words.add(word)\n",
    "\n",
    "print(\"Unique words:\", unique_words)\n",
    "print(\"Common words:\", common_words)\n"
   ]
  },
  {
   "cell_type": "markdown",
   "id": "3da4da2f",
   "metadata": {},
   "source": [
    "# 4.Write a program to count the frequency of each vowel in the above string"
   ]
  },
  {
   "cell_type": "code",
   "execution_count": null,
   "id": "a82eb6f2",
   "metadata": {},
   "outputs": [],
   "source": [
    "def Check_Vow(string, vowels):\n",
    "    string = string.casefold()\n",
    "    count = {}.fromkeys(vowels, 0)\n",
    "    for character in string:\n",
    "        if character in count:\n",
    "            count[character] += 1   \n",
    "            \n",
    "    return count\n",
    "\n",
    "\n",
    "\n",
    "vowels = 'aeiou'\n",
    "\n",
    "string = \"Python support smultipe programming paradigms, including structured, object-oriented and functional programming\"\n",
    "\n",
    "print (Check_Vow(string, vowels))\n"
   ]
  },
  {
   "cell_type": "code",
   "execution_count": null,
   "id": "eb4fe4aa",
   "metadata": {},
   "outputs": [],
   "source": []
  }
 ],
 "metadata": {
  "kernelspec": {
   "display_name": "Python 3 (ipykernel)",
   "language": "python",
   "name": "python3"
  },
  "language_info": {
   "codemirror_mode": {
    "name": "ipython",
    "version": 3
   },
   "file_extension": ".py",
   "mimetype": "text/x-python",
   "name": "python",
   "nbconvert_exporter": "python",
   "pygments_lexer": "ipython3",
   "version": "3.9.13"
  }
 },
 "nbformat": 4,
 "nbformat_minor": 5
}
