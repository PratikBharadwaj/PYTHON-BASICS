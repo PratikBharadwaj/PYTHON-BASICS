{
 "cells": [
  {
   "cell_type": "markdown",
   "metadata": {},
   "source": [
    "# A. Functions, Packages"
   ]
  },
  {
   "cell_type": "markdown",
   "metadata": {},
   "source": [
    "## 1. You are working on a project where you need to implement a binary search algorithm. Write a function that takes a sorted list of integers as input and a target value and returns the index of the target value in the list. "
   ]
  },
  {
   "cell_type": "code",
   "execution_count": null,
   "metadata": {
    "execution": {
     "iopub.execute_input": "2023-04-17T16:08:09.088864Z",
     "iopub.status.busy": "2023-04-17T16:08:09.088234Z",
     "iopub.status.idle": "2023-04-17T16:08:09.099596Z",
     "shell.execute_reply": "2023-04-17T16:08:09.097835Z",
     "shell.execute_reply.started": "2023-04-17T16:08:09.088795Z"
    }
   },
   "outputs": [],
   "source": [
    "def binary_search(sorted_list, target):\n",
    "    left = 0\n",
    "    right = len(sorted_list) - 1\n",
    "    \n",
    "    while left <= right:\n",
    "        mid = (left + right) // 2\n",
    "        \n",
    "        if sorted_list[mid] == target:\n",
    "            return mid\n",
    "        \n",
    "        elif sorted_list[mid] < target:\n",
    "            left = mid + 1\n",
    "        \n",
    "        else:\n",
    "            right = mid - 1\n",
    "            \n",
    "    # If target is not found in the list, return None\n",
    "    return None\n",
    "\n",
    "sorted_list = [1, 2, 3, 4, 5, 6, 7, 8, 9]\n",
    "target = 6\n",
    "\n",
    "result = binary_search(sorted_list, target)\n",
    "print(\"Index of the target value in the list is : \",result)\n"
   ]
  },
  {
   "cell_type": "markdown",
   "metadata": {},
   "source": [
    "# 2. A social media company wants you to write a function that analyzes a user's post and predicts the sentiment of the post. The sentiment can be positive, negative, or neutral. Write a function that takes a user's post as input and returns the sentiment of the post."
   ]
  },
  {
   "cell_type": "code",
   "execution_count": null,
   "metadata": {
    "execution": {
     "iopub.execute_input": "2023-04-17T16:08:27.778404Z",
     "iopub.status.busy": "2023-04-17T16:08:27.777916Z",
     "iopub.status.idle": "2023-04-17T16:08:27.789405Z",
     "shell.execute_reply": "2023-04-17T16:08:27.787880Z",
     "shell.execute_reply.started": "2023-04-17T16:08:27.778365Z"
    }
   },
   "outputs": [],
   "source": [
    "from textblob import TextBlob\n",
    "\n",
    "def predict_sentiment(text):\n",
    "    \"\"\"\n",
    "    Predict the sentiment of a given text.\n",
    "\n",
    "    Parameters:\n",
    "        text (str): the text to analyze.\n",
    "\n",
    "    Returns:\n",
    "        sentiment (str): the predicted sentiment of the text (positive, negative, or neutral).\n",
    "    \"\"\"\n",
    "    # Create a TextBlob object from the input text\n",
    "    blob = TextBlob(text)\n",
    "    \n",
    "    # Get the polarity of the text (-1 to 1)\n",
    "    polarity = blob.sentiment.polarity\n",
    "    \n",
    "    # Classify the sentiment based on the polarity score\n",
    "    if polarity > 0.0:\n",
    "        sentiment = 'positive'\n",
    "    elif polarity < 0.0:\n",
    "        sentiment = 'negative'\n",
    "    else:\n",
    "        sentiment = 'neutral'\n",
    "    \n",
    "    return sentiment\n",
    "\n",
    "text = \"I love programming.\"\n",
    "sentiment = predict_sentiment(text)\n",
    "print(\"Given text is : \", sentiment)"
   ]
  },
  {
   "cell_type": "markdown",
   "metadata": {},
   "source": [
    "# 3. You are working on a project where you need to parse and process XML files. Which Python package would you use to parse and process XML files? Write a function that uses this package to parse an XML file and extract the required data."
   ]
  },
  {
   "cell_type": "markdown",
   "metadata": {},
   "source": [
    "<people>\n",
    "    <person name=\"Alice\">\n",
    "        <age>28</age>\n",
    "        <country>USA</country>\n",
    "    </person>\n",
    "    <person name=\"Bob\">\n",
    "        <age>42</age>\n",
    "        <country>Canada</country>\n",
    "    </person>\n",
    "</people>"
   ]
  },
  {
   "cell_type": "code",
   "execution_count": null,
   "metadata": {
    "execution": {
     "iopub.execute_input": "2023-04-17T16:10:10.284069Z",
     "iopub.status.busy": "2023-04-17T16:10:10.283466Z",
     "iopub.status.idle": "2023-04-17T16:10:10.439161Z",
     "shell.execute_reply": "2023-04-17T16:10:10.437440Z",
     "shell.execute_reply.started": "2023-04-17T16:10:10.284017Z"
    }
   },
   "outputs": [],
   "source": [
    "import xml.etree.ElementTree as ET\n",
    "\n",
    "def parse_xml_file(file_path):\n",
    "    tree = ET.parse(file_path)\n",
    "    root = tree.getroot()\n",
    "\n",
    "    # Extract the required data from the XML file\n",
    "    data = []\n",
    "    for child in root:\n",
    "        if child.tag == 'person':\n",
    "            name = child.attrib['name']\n",
    "            age = int(child.find('age').text)\n",
    "            country = child.find('country').text\n",
    "            data.append({'name': name, 'age': age, 'country': country})\n",
    "\n",
    "    return data\n",
    "\n",
    "\n",
    "data = parse_xml_file('people.xml')\n",
    "print(data)"
   ]
  },
  {
   "cell_type": "markdown",
   "metadata": {},
   "source": [
    "## Exception Handling"
   ]
  },
  {
   "cell_type": "markdown",
   "metadata": {},
   "source": [
    "# 1. You are working on a data analysis project that involves processing large datasets. However, sometimes the data contains missing values, causing your code to raise a TypeError exception. Write a try-except block that handles the TypeError exception and replaces the missing values with a specified default value."
   ]
  },
  {
   "cell_type": "code",
   "execution_count": null,
   "metadata": {
    "execution": {
     "iopub.execute_input": "2023-04-17T16:16:18.939508Z",
     "iopub.status.busy": "2023-04-17T16:16:18.939084Z",
     "iopub.status.idle": "2023-04-17T16:16:18.948472Z",
     "shell.execute_reply": "2023-04-17T16:16:18.947240Z",
     "shell.execute_reply.started": "2023-04-17T16:16:18.939470Z"
    }
   },
   "outputs": [],
   "source": [
    "def process_data(data, default_value):\n",
    "    try:\n",
    "        # Process the data\n",
    "        processed_data = [value * 2 for value in data]\n",
    "\n",
    "    except TypeError:\n",
    "        # Replace missing values with the default value\n",
    "        processed_data = []\n",
    "        for value in data:\n",
    "            if value is None:\n",
    "                processed_data.append(default_value)\n",
    "            else:\n",
    "                processed_data.append(value * 2)\n",
    "\n",
    "    return processed_data\n",
    "\n",
    "\n",
    "data = [1, 2, None, 4, None, 6]\n",
    "default_value = 0\n",
    "\n",
    "processed_data = process_data(data, default_value)\n",
    "print(processed_data)"
   ]
  },
  {
   "cell_type": "markdown",
   "metadata": {},
   "source": [
    "# 2. Sam is working on a Python program that requires a user to enter a valid email address. He wants to make sure that if the user enters an invalid email address, the program should display an error message and prompt the user to enter a valid email address. How can Sam handle this exception in his code?"
   ]
  },
  {
   "cell_type": "code",
   "execution_count": null,
   "metadata": {
    "execution": {
     "iopub.execute_input": "2023-04-17T16:17:59.671437Z",
     "iopub.status.busy": "2023-04-17T16:17:59.670546Z",
     "iopub.status.idle": "2023-04-17T16:18:13.782231Z",
     "shell.execute_reply": "2023-04-17T16:18:13.780363Z",
     "shell.execute_reply.started": "2023-04-17T16:17:59.671391Z"
    }
   },
   "outputs": [],
   "source": [
    "from email_validator import validate_email, EmailNotValidError\n",
    "\n",
    "def get_valid_email():\n",
    "    while True:\n",
    "        email = input(\"Please enter your email address: \")\n",
    "        try:\n",
    "            valid = validate_email(email)\n",
    "            # Return the normalized email address\n",
    "            return valid.email\n",
    "        except EmailNotValidError as e:\n",
    "            # Display an error message and continue the loop\n",
    "            print(f\"Error: {str(e)}. Please enter a valid email address.\")\n",
    "\n",
    "            \n",
    "\n",
    "email = get_valid_email()\n",
    "print(f\"Valid email address entered: {email}\")\n"
   ]
  },
  {
   "cell_type": "markdown",
   "metadata": {},
   "source": [
    "# 3. Tom is building a Python program that connects to a remote server. He wants to make sure that if the server is unreachable, the program should print an error message and try again after a specified interval. How can Tom handle this exception in his code? He also requires a specific module to be installed and wants to make sure that if the module is not installed, the program should print an error message and exit gracefully. Write a python program executing the same."
   ]
  },
  {
   "cell_type": "code",
   "execution_count": null,
   "metadata": {
    "execution": {
     "iopub.execute_input": "2023-04-17T16:18:34.801541Z",
     "iopub.status.busy": "2023-04-17T16:18:34.800784Z",
     "iopub.status.idle": "2023-04-17T16:18:34.831331Z",
     "shell.execute_reply": "2023-04-17T16:18:34.829848Z",
     "shell.execute_reply.started": "2023-04-17T16:18:34.801499Z"
    }
   },
   "outputs": [],
   "source": [
    "import time\n",
    "try:\n",
    "    import requests\n",
    "except ModuleNotFoundError:\n",
    "    print(\"Error: requests module is not installed.\")\n",
    "    exit()\n",
    "\n",
    "url = \"http://example.com\"\n",
    "retry_interval = 5\n",
    "\n",
    "while True:\n",
    "    try:\n",
    "        response = requests.get(url)\n",
    "        response.raise_for_status()\n",
    "        # Process the response here\n",
    "        print(\"Connection successful!\")\n",
    "        break\n",
    "\n",
    "    except requests.exceptions.RequestException as e:\n",
    "        print(f\"Error: {str(e)}. Retrying in {retry_interval} seconds.\")\n",
    "        time.sleep(retry_interval)\n"
   ]
  },
  {
   "cell_type": "code",
   "execution_count": null,
   "metadata": {},
   "outputs": [],
   "source": []
  }
 ],
 "metadata": {
  "kernelspec": {
   "display_name": "Python 3 (ipykernel)",
   "language": "python",
   "name": "python3"
  },
  "language_info": {
   "codemirror_mode": {
    "name": "ipython",
    "version": 3
   },
   "file_extension": ".py",
   "mimetype": "text/x-python",
   "name": "python",
   "nbconvert_exporter": "python",
   "pygments_lexer": "ipython3",
   "version": "3.9.13"
  }
 },
 "nbformat": 4,
 "nbformat_minor": 4
}
