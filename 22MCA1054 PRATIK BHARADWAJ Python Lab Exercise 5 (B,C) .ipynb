{
 "cells": [
  {
   "cell_type": "markdown",
   "metadata": {},
   "source": [
    "5-b,c"
   ]
  },
  {
   "cell_type": "markdown",
   "metadata": {
    "_cell_guid": "b1076dfc-b9ad-4769-8c92-a6c4dae69d19",
    "_uuid": "8f2839f25d086af736a60e9eeb907d3b93b6e0e5"
   },
   "source": [
    "# 5.B. Data Visualization"
   ]
  },
  {
   "cell_type": "markdown",
   "metadata": {},
   "source": [
    "### 1. Imagine you are the sales executive director and you have to analyze the data on the sales of a retail company over a period of 5 years. How will you read the data from the CSV file and create a line chart that shows the trend of sales and profit over the 5-year period. The data is stored in a CSV file with columns for date, sales, and profit. Write Python code to execute your analysis."
   ]
  },
  {
   "cell_type": "code",
   "execution_count": null,
   "metadata": {},
   "outputs": [],
   "source": [
    "import pandas as pd\n",
    "import matplotlib.pyplot as plt\n",
    "\n",
    "# Read the data from the CSV file\n",
    "df = pd.read_csv('sales.csv')\n",
    "\n",
    "# Show data frame\n",
    "print(df.head())\n",
    "\n",
    "# Create a line chart that shows the trend of sales and profit over the 5-year period\n",
    "plt.plot(df['Date'], df['sales'], label='Sales')\n",
    "plt.plot(df['Date'], df['Profit'], label='Profit')\n",
    "plt.xlabel('Date')\n",
    "plt.ylabel('Value')\n",
    "plt.title('Sales and Profit Trend')\n",
    "plt.legend()\n",
    "plt.show()"
   ]
  },
  {
   "cell_type": "markdown",
   "metadata": {},
   "source": [
    "### 2. Analysis of data is observed on the usage of a mobile app over a period of 1 year. The data is stored in a MySQL database with tables for user sessions, app screens, and actions. Write Python code to read the data from the database, compute the average duration of each user session, and create a line chart that shows the trend of average session duration over the 1-year period."
   ]
  },
  {
   "cell_type": "code",
   "execution_count": null,
   "metadata": {
    "execution": {
     "iopub.execute_input": "2023-04-29T20:20:07.661714Z",
     "iopub.status.busy": "2023-04-29T20:20:07.661219Z",
     "iopub.status.idle": "2023-04-29T20:20:19.384614Z",
     "shell.execute_reply": "2023-04-29T20:20:19.383085Z",
     "shell.execute_reply.started": "2023-04-29T20:20:07.661674Z"
    },
    "scrolled": true
   },
   "outputs": [],
   "source": [
    "pip install pymysql\n"
   ]
  },
  {
   "cell_type": "code",
   "execution_count": null,
   "metadata": {},
   "outputs": [],
   "source": [
    "import pandas as pd\n",
    "import matplotlib.pyplot as plt\n",
    "import pymysql\n",
    "print(\"Databases and Tables are created already!\")\n",
    "# Connect to the MySQL database\n",
    "conn = pymysql.connect(host='localhost', user='root', password='Pratik@123', db='vit')\n",
    "\n",
    "# Read the data from the user sessions table\n",
    "df = pd.read_sql('SELECT * FROM user_sessions', conn)\n",
    "\n",
    "# Compute the average duration of each user session\n",
    "df['average_duration'] = df['end_time'] - df['start_time']\n",
    "\n",
    "# Create a line chart that shows the trend of average session duration over the 1-year period\n",
    "plt.plot(df['start_time'], df['average_duration'], label='Average Session Duration')\n",
    "plt.xlabel('Start Date')\n",
    "plt.ylabel('Duratiaon (Seconds)')\n",
    "plt.title('Average Session Duration Trend')\n",
    "plt.legend()\n",
    "plt.show()"
   ]
  },
  {
   "cell_type": "markdown",
   "metadata": {},
   "source": [
    "### 3. A project requires analyzing customer reviews of a product. The reviews are stored in a text file, with each line representing a single review. Write Python code to read the reviews from the text file, preprocess the text data (e.g., remove stop words, convert to lowercase), and create a word cloud that visualizes the most common words in the reviews."
   ]
  },
  {
   "cell_type": "code",
   "execution_count": null,
   "metadata": {
    "execution": {
     "iopub.execute_input": "2023-04-29T20:29:24.327060Z",
     "iopub.status.busy": "2023-04-29T20:29:24.326563Z",
     "iopub.status.idle": "2023-04-29T20:29:35.899439Z",
     "shell.execute_reply": "2023-04-29T20:29:35.897849Z",
     "shell.execute_reply.started": "2023-04-29T20:29:24.327011Z"
    }
   },
   "outputs": [],
   "source": [
    "pip install wordcloud"
   ]
  },
  {
   "cell_type": "code",
   "execution_count": null,
   "metadata": {},
   "outputs": [],
   "source": [
    "pip install pandas matplotlib nltk wordcloud"
   ]
  },
  {
   "cell_type": "code",
   "execution_count": null,
   "metadata": {},
   "outputs": [],
   "source": [
    "import pandas as pd\n",
    "import matplotlib.pyplot as plt\n",
    "import nltk\n",
    "from nltk.corpus import stopwords\n",
    "from wordcloud import WordCloud\n",
    "\n",
    "# Read the reviews from the text file\n",
    "reviews_df = pd.read_csv('reviews.csv', header=None, names=['Review'])\n",
    "\n",
    "# Preprocess the text data\n",
    "stop_words = set(stopwords.words('english'))\n",
    "reviews_df['Review'] = reviews_df['Review'].apply(lambda x: ' '.join([word.lower() for word in x.split() if word.lower() not in stop_words]))\n",
    "\n",
    "# Create a word cloud\n",
    "wordcloud = WordCloud(width=800, height=800, background_color='white', min_font_size=10).generate(' '.join(reviews_df['Review']))\n",
    "plt.figure(figsize=(8,8))\n",
    "plt.imshow(wordcloud)\n",
    "plt.axis('off')\n",
    "plt.show()\n",
    "\n",
    "# Save the word cloud as an image file\n",
    "wordcloud.to_file('wordcloud.png')\n",
    "# plt.imshow(wc)\n",
    "# plt.axis('off')\n",
    "# plt.show()"
   ]
  },
  {
   "cell_type": "markdown",
   "metadata": {},
   "source": [
    "# 5.C. Embedded Python"
   ]
  },
  {
   "cell_type": "markdown",
   "metadata": {},
   "source": [
    "### 1. If there is an embedded system that monitors the power consumption of a device and the system uses a microcontroller and a set of sensors (e.g., current sensor, voltage sensor) to measure the power consumption and a set of LEDs to display the current power consumption, write Python code that runs on the microcontroller and reads the sensor data, calculates the power consumption, adjusts the brightness of the LEDs based on the power consumption, and logs the power consumption data to a file."
   ]
  },
  {
   "cell_type": "code",
   "execution_count": null,
   "metadata": {},
   "outputs": [],
   "source": [
    "import time\n",
    "import math\n",
    "\n",
    "# Define the pins for the current sensor and the voltage sensor\n",
    "current_sensor_pin = 1\n",
    "voltage_sensor_pin = 2\n",
    "\n",
    "# Initialize the current sensor and the voltage sensor\n",
    "current_sensor = ADC(current_sensor_pin)\n",
    "voltage_sensor = ADC(voltage_sensor_pin)\n",
    "\n",
    "# Set the brightness of the LEDs to 0\n",
    "led_red.brightness = 0\n",
    "led_green.brightness = 0\n",
    "led_blue.brightness = 0\n",
    "\n",
    "# Create a file to log the power consumption data\n",
    "power_consumption_file = open('power_consumption.csv', 'w')\n",
    "\n",
    "# Start a loop that runs forever\n",
    "while True:\n",
    "\n",
    "    # Read the current sensor data\n",
    "    current = current_sensor.read()\n",
    "\n",
    "    # Read the voltage sensor data\n",
    "    voltage = voltage_sensor.read()\n",
    "\n",
    "    # Calculate the power consumption\n",
    "    power_consumption = current * voltage\n",
    "\n",
    "    # Adjust the brightness of the LEDs based on the power consumption\n",
    "    if power_consumption > 100:\n",
    "        led_red.brightness = 255\n",
    "    elif power_consumption < 0:\n",
    "        led_red.brightness = 0\n",
    "    else:\n",
    "        led_red.brightness = power_consumption\n",
    "\n",
    "    # Log the power consumption data to the file\n",
    "    power_consumption_file.write('%d,%d\\n' % (power_consumption, time.time()))\n",
    "\n",
    "    # Wait for 1 second\n",
    "    time.sleep(1)"
   ]
  },
  {
   "cell_type": "markdown",
   "metadata": {},
   "source": [
    "### 2. An embedded system controls the temperature of a greenhouse. The system uses a microcontroller and a temperature sensor to measure the temperature and a heating element to adjust the temperature. Write Python code that runs on the microcontroller and reads the temperature sensor data, adjusts the heating element based on the temperature and logs the temperature data to a file."
   ]
  },
  {
   "cell_type": "code",
   "execution_count": null,
   "metadata": {},
   "outputs": [],
   "source": [
    "import time\n",
    "import math\n",
    "\n",
    "# Define the pins for the temperature sensor and the heating element\n",
    "temperature_sensor_pin = 1\n",
    "heating_element_pin = 2\n",
    "\n",
    "# Initialize the temperature sensor and the heating element\n",
    "temperature_sensor = ADC(temperature_sensor_pin)\n",
    "heating_element = MotorDriver(heating_element_pin)\n",
    "\n",
    "# Set the temperature to 20 degrees Celsius\n",
    "target_temperature = 20\n",
    "\n",
    "# Create a file to log the temperature data\n",
    "temperature_file = open('temperature.csv', 'w')\n",
    "\n",
    "# Start a loop that runs forever\n",
    "while True:\n",
    "\n",
    "    # Read the temperature sensor data\n",
    "    temperature = temperature_sensor.read()\n",
    "\n",
    "    # Adjust the heating element based on the temperature\n",
    "    if temperature < target_temperature:\n",
    "        heating_element.set_speed(255)\n",
    "    elif temperature > target_temperature:\n",
    "        heating_element.set_speed(0)\n",
    "\n",
    "    # Log the temperature data to the file\n",
    "    temperature_file.write('%d,%d\\n' % (temperature, time.time()))\n",
    "\n",
    "    # Wait for 1 second\n",
    "    time.sleep(1)"
   ]
  },
  {
   "cell_type": "markdown",
   "metadata": {},
   "source": [
    "### 3. Develop an embedded system that controls the speed of a motor. The system uses a microcontroller and a rotary encoder to measure the speed of the motor and a motor driver to adjust the speed. Write Python code that runs on the microcontroller and reads the encoder data, adjusts the motor speed based on the encoder data, and displays the current motor speed on a connected display."
   ]
  },
  {
   "cell_type": "code",
   "execution_count": null,
   "metadata": {},
   "outputs": [],
   "source": [
    "import machine\n",
    "import time\n",
    "\n",
    "# define motor driver pins\n",
    "motor_pins = (2, 3, 4, 5)\n",
    "\n",
    "# define encoder pins\n",
    "encoder_pins = (6, 7)\n",
    "\n",
    "# set up motor driver pins\n",
    "motor = machine.Pin(motor_pins, machine.Pin.OUT)\n",
    "\n",
    "# set up encoder pins\n",
    "encoder1 = machine.Pin(encoder_pins[0], machine.Pin.IN)\n",
    "encoder2 = machine.Pin(encoder_pins[1], machine.Pin.IN)\n",
    "\n",
    "# define motor speed range (0-255)\n",
    "motor_min_speed = 0\n",
    "motor_max_speed = 255\n",
    "\n",
    "# define initial motor speed\n",
    "motor_speed = 0\n",
    "\n",
    "# define encoder count and direction\n",
    "encoder_count = 0\n",
    "encoder_direction = 0\n",
    "\n",
    "# read encoder data and adjust motor speed\n",
    "def update_motor_speed(pin):\n",
    "    global encoder_count\n",
    "    global encoder_direction\n",
    "    global motor_speed\n",
    "    # read encoder pins\n",
    "    pin1 = encoder1.value()\n",
    "    pin2 = encoder2.value()\n",
    "    # determine encoder direction\n",
    "    if pin == encoder1:\n",
    "        if pin1 == 1 and pin2 == 0:\n",
    "            encoder_direction = 1\n",
    "        elif pin1 == 0 and pin2 == 1:\n",
    "            encoder_direction = -1\n",
    "    elif pin == encoder2:\n",
    "        if pin1 == 0 and pin2 == 1:\n",
    "            encoder_direction = 1\n",
    "        elif pin1 == 1 and pin2 == 0:\n",
    "            encoder_direction = -1\n",
    "    # increment or decrement encoder count\n",
    "    encoder_count += encoder_direction\n",
    "    # update motor speed based on encoder count\n",
    "    motor_speed = int(motor_min_speed + ((motor_max_speed - motor_min_speed) * encoder_count / 100))\n",
    "    motor.duty(motor_speed)\n",
    "\n",
    "# set up interrupt handlers for encoder pins\n",
    "encoder1.irq(trigger=machine.Pin.IRQ_RISING | machine.Pin.IRQ_FALLING, handler=update_motor_speed)\n",
    "encoder2.irq(trigger=machine.Pin.IRQ_RISING | machine.Pin.IRQ_FALLING, handler=update_motor_speed)\n",
    "\n",
    "# main loop\n",
    "while True:\n",
    "    # read motor speed and display on connected display\n",
    "    display.show(motor_speed)\n",
    "    time.sleep(0.1)"
   ]
  },
  {
   "cell_type": "code",
   "execution_count": null,
   "metadata": {},
   "outputs": [],
   "source": []
  }
 ],
 "metadata": {
  "kernelspec": {
   "display_name": "Python 3 (ipykernel)",
   "language": "python",
   "name": "python3"
  },
  "language_info": {
   "codemirror_mode": {
    "name": "ipython",
    "version": 3
   },
   "file_extension": ".py",
   "mimetype": "text/x-python",
   "name": "python",
   "nbconvert_exporter": "python",
   "pygments_lexer": "ipython3",
   "version": "3.9.13"
  }
 },
 "nbformat": 4,
 "nbformat_minor": 4
}
