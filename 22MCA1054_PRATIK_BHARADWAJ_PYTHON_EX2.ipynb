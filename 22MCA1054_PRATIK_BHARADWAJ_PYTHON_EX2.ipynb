{
 "cells": [
  {
   "cell_type": "markdown",
   "id": "500187dc",
   "metadata": {},
   "source": [
    "\n",
    "<img src=\"download.png\">\n",
    "\n",
    "\n",
    "\n",
    "|Programme| Semester |  Course  | Code|Faculty|RgNo|Name \n",
    "|---------|--------------|--------------------|--------|------------|---------|------------|\n",
    "|M. C. A. |WINTER 2023-24|Python Programming Lab|ITA 6017|Dr. SHAHJAHAN SOFIA NISHATH|22MCA1054|Pratik Bharadwaj|\n",
    "\n",
    "\n",
    "### Python Programming lab Excersise 2\n",
    " "
   ]
  },
  {
   "cell_type": "markdown",
   "id": "6a1045e1",
   "metadata": {},
   "source": [
    "# QUESTION 1"
   ]
  },
  {
   "cell_type": "markdown",
   "id": "8cff5c5d",
   "metadata": {},
   "source": [
    "## 1.Make a  program  that  asks  the number  between  1  and 10.  If  the number is out of range the program should display “invalid number”. "
   ]
  },
  {
   "cell_type": "code",
   "execution_count": 1,
   "id": "baf6933d",
   "metadata": {},
   "outputs": [
    {
     "name": "stdout",
     "output_type": "stream",
     "text": [
      "22MC1054_PRATIK_BHARADWAJ\n",
      "\n",
      "Enter a number between 1 and 10: \n",
      "\n",
      "10\n",
      "\n",
      "Valid number\n",
      "\n",
      "numbers upto the valid number within range:\n",
      "1\n",
      "2\n",
      "3\n",
      "4\n",
      "5\n",
      "6\n",
      "7\n",
      "8\n",
      "9\n",
      "10\n"
     ]
    }
   ],
   "source": [
    "print(\"22MC1054_PRATIK_BHARADWAJ\\n\");\n",
    "PRATIK = int(input(\"Enter a number between 1 and 10: \\n\\n\"))\n",
    "\n",
    "if PRATIK < 1 or PRATIK > 10:\n",
    "    print(\"Invalid number\")\n",
    "else:\n",
    "    print(\"\\nValid number\\n\");\n",
    "    print(\"numbers upto the valid number within range:\");\n",
    "    for i in range(1, PRATIK+1):\n",
    "        print(i)"
   ]
  },
  {
   "cell_type": "markdown",
   "id": "39760a1b",
   "metadata": {},
   "source": [
    "# QUESTION 2"
   ]
  },
  {
   "cell_type": "markdown",
   "id": "c0d52470",
   "metadata": {},
   "source": [
    "## 2.Make a program that lists the countries in the set clist = ['Canada','USA','Mexico','Australia']"
   ]
  },
  {
   "cell_type": "code",
   "execution_count": 2,
   "id": "ea750dd3",
   "metadata": {
    "scrolled": true
   },
   "outputs": [
    {
     "name": "stdout",
     "output_type": "stream",
     "text": [
      "22MC1054_PRATIK_BHARADWAJ\n",
      "\n",
      "USA\n",
      "Australia\n",
      "Canada\n",
      "Mexico\n"
     ]
    }
   ],
   "source": [
    "print(\"22MC1054_PRATIK_BHARADWAJ\\n\");\n",
    "PRATIK={'Canada','USA','Mexico','Australia'}\n",
    "for country in PRATIK:\n",
    "    print(country);"
   ]
  },
  {
   "cell_type": "markdown",
   "id": "a5d02a11",
   "metadata": {},
   "source": [
    "# QUESTION 3"
   ]
  },
  {
   "cell_type": "markdown",
   "id": "3d38b3c2",
   "metadata": {},
   "source": [
    "## 3.Create a loop that counts from 0 to 100 "
   ]
  },
  {
   "cell_type": "code",
   "execution_count": 3,
   "id": "26301599",
   "metadata": {
    "scrolled": false
   },
   "outputs": [
    {
     "name": "stdout",
     "output_type": "stream",
     "text": [
      "22MC1054_PRATIK_BHARADWAJ \n",
      "\n",
      "values from 0 to 100 is :\n",
      "\n",
      "0  1  2  3  4  5  6  7  8  9  10  11  12  13  14  15  16  17  18  19  20  21  22  23  24  25  26  27  28  29  30  31  32  33  34  35  36  37  38  39  40  41  42  43  44  45  46  47  48  49  50  51  52  53  54  55  56  57  58  59  60  61  62  63  64  65  66  67  68  69  70  71  72  73  74  75  76  77  78  79  80  81  82  83  84  85  86  87  88  89  90  91  92  93  94  95  96  97  98  99  100  \n",
      "\n",
      "LOOP COUNT FROM 0 TO 100 IS :\n",
      "\n",
      "101\n"
     ]
    }
   ],
   "source": [
    "print(\"22MC1054_PRATIK_BHARADWAJ \\n\");\n",
    "\n",
    "#printing the values \n",
    "print(\"values from 0 to 100 is :\\n\")\n",
    "count = 0\n",
    "for PRATIK in range(0,101):\n",
    "    count = count+1\n",
    "    print(PRATIK,end = '  ',sep = ',' );\n",
    "\n",
    "print(\"\\n\\nLOOP COUNT FROM 0 TO 100 IS :\\n\")\n",
    "#printing the loop count\n",
    "print(count);"
   ]
  },
  {
   "cell_type": "markdown",
   "id": "4433dff8",
   "metadata": {},
   "source": [
    "# QUESTION 4"
   ]
  },
  {
   "cell_type": "markdown",
   "id": "36f277e7",
   "metadata": {},
   "source": [
    "## 4.Make a multiplication table using a loop "
   ]
  },
  {
   "cell_type": "code",
   "execution_count": 4,
   "id": "06f4ec57",
   "metadata": {},
   "outputs": [
    {
     "name": "stdout",
     "output_type": "stream",
     "text": [
      "22MC1054_PRATIK_BHARADWAJ\n",
      "\n",
      " Display table of ?: 5\n",
      "\n",
      " the table is\n",
      "\n",
      " 5 x 1 = 5\n",
      "\n",
      " 5 x 2 = 10\n",
      "\n",
      " 5 x 3 = 15\n",
      "\n",
      " 5 x 4 = 20\n",
      "\n",
      " 5 x 5 = 25\n",
      "\n",
      " 5 x 6 = 30\n",
      "\n",
      " 5 x 7 = 35\n",
      "\n",
      " 5 x 8 = 40\n",
      "\n",
      " 5 x 9 = 45\n",
      "\n",
      " 5 x 10 = 50\n"
     ]
    }
   ],
   "source": [
    "print(\"22MC1054_PRATIK_BHARADWAJ\");\n",
    "n=int(input(\"\\n Display table of ?: \"))\n",
    "print(\"\\n the table is\");\n",
    "for PRATIK in range(1, 11):\n",
    "    print(\"\\n\",n, 'x', PRATIK, '=', n*PRATIK);"
   ]
  },
  {
   "cell_type": "markdown",
   "id": "5b2a2382",
   "metadata": {},
   "source": [
    "# QUESTION 5"
   ]
  },
  {
   "cell_type": "markdown",
   "id": "2a754c22",
   "metadata": {},
   "source": [
    "## 5.Output the numbers 1 to 10 backwards using a loop "
   ]
  },
  {
   "cell_type": "code",
   "execution_count": 5,
   "id": "30d54189",
   "metadata": {},
   "outputs": [
    {
     "name": "stdout",
     "output_type": "stream",
     "text": [
      "22MC1054_PRATIK_BHARADWAJ\n",
      "\n",
      " 10 \n",
      " 9 \n",
      " 8 \n",
      " 7 \n",
      " 6 \n",
      " 5 \n",
      " 4 \n",
      " 3 \n",
      " 2 \n",
      " 1 "
     ]
    }
   ],
   "source": [
    "print(\"22MC1054_PRATIK_BHARADWAJ\");\n",
    "#The reversed num from 1 to 10 is:\n",
    "\n",
    "#using reversed function\n",
    "for PRATIK in reversed(range(1,11)):\n",
    "    print(\"\\n\",PRATIK, sep=\" \",end = \" \");"
   ]
  },
  {
   "cell_type": "markdown",
   "id": "8abdd1e7",
   "metadata": {},
   "source": [
    "# QUESTION 6"
   ]
  },
  {
   "cell_type": "markdown",
   "id": "d495f32d",
   "metadata": {},
   "source": [
    "## 6.Create a loop that counts all even numbers to 10 "
   ]
  },
  {
   "cell_type": "code",
   "execution_count": 6,
   "id": "f9bd7c87",
   "metadata": {},
   "outputs": [
    {
     "name": "stdout",
     "output_type": "stream",
     "text": [
      "22MC1054_PRATIK_BHARADWAJ\n",
      "\n",
      " Even numbers from up to 10 are :\n",
      "\n",
      " 2\n",
      "\n",
      " 4\n",
      "\n",
      " 6\n",
      "\n",
      " 8\n",
      "\n",
      " 10\n",
      "\n",
      " LOOP COUNT OF ALL EVEN NUMBERS TO 10 IS :\n",
      "\n",
      " 5 \n",
      "\n"
     ]
    }
   ],
   "source": [
    "print(\"22MC1054_PRATIK_BHARADWAJ\");\n",
    "\n",
    "#printing the values from 0 to 10\n",
    "print(\"\\n Even numbers from up to 10 are :\")\n",
    "count=0\n",
    "for PRATIK in range(1,11):\n",
    "    if PRATIK%2==0:\n",
    "        count += 1\n",
    "        print(\"\\n\",PRATIK);\n",
    "print(\"\\n LOOP COUNT OF ALL EVEN NUMBERS TO 10 IS :\")\n",
    "#printing the loop count\n",
    "print(\"\\n\",count,\"\\n\")"
   ]
  },
  {
   "cell_type": "markdown",
   "id": "3909191b",
   "metadata": {},
   "source": [
    "# QUESTION 7"
   ]
  },
  {
   "cell_type": "markdown",
   "id": "de8b8a09",
   "metadata": {},
   "source": [
    "## 7.Create a loop that sums the numbers from 100 to 200 "
   ]
  },
  {
   "cell_type": "code",
   "execution_count": 7,
   "id": "ab09b7cb",
   "metadata": {
    "scrolled": true
   },
   "outputs": [
    {
     "name": "stdout",
     "output_type": "stream",
     "text": [
      "22MC1054_PRATIK_BHARADWAJ\n",
      "\n",
      " The sum of numbers from 100 to 200 is :\n",
      " 15150\n"
     ]
    }
   ],
   "source": [
    "print(\"22MC1054_PRATIK_BHARADWAJ\");\n",
    "PRATIK = sum([i for i in range(100, 201)])\n",
    "\n",
    "print(\"\\n The sum of numbers from 100 to 200 is :\\n\",PRATIK);"
   ]
  },
  {
   "cell_type": "markdown",
   "id": "332f904b",
   "metadata": {},
   "source": [
    "# QUESTION 8"
   ]
  },
  {
   "cell_type": "markdown",
   "id": "425eca0e",
   "metadata": {},
   "source": [
    "## 8.Make a program that lists the countries in the set below using a while loop. clist = [\"Canada\",\"USA\",\"Mexico\"]"
   ]
  },
  {
   "cell_type": "code",
   "execution_count": 8,
   "id": "d98fabff",
   "metadata": {},
   "outputs": [
    {
     "name": "stdout",
     "output_type": "stream",
     "text": [
      "22MC1054_PRATIK_BHARADWAJ\n",
      "\n",
      " Canada\n",
      "\n",
      " USA\n",
      "\n",
      " Mexico\n",
      "\n",
      " Australia\n"
     ]
    }
   ],
   "source": [
    "print(\"22MC1054_PRATIK_BHARADWAJ\");\n",
    "PRATIK=['Canada','USA','Mexico','Australia']\n",
    "\n",
    "#using while True\n",
    "i = 0\n",
    "\n",
    "while True:\n",
    "    if i >= len(PRATIK):\n",
    "        break\n",
    "    print(\"\\n\",PRATIK[i])\n",
    "    i += 1"
   ]
  },
  {
   "cell_type": "markdown",
   "id": "62557be9",
   "metadata": {},
   "source": [
    "# QUESTION 9"
   ]
  },
  {
   "cell_type": "markdown",
   "id": "df5c64db",
   "metadata": {},
   "source": [
    "## 9.Make a program that displays the states in the U.S. states = [ 'Alabama', .. ,'Wyoming']\n",
    "## Display all states starting with the letter M. "
   ]
  },
  {
   "cell_type": "code",
   "execution_count": 9,
   "id": "62fd92bc",
   "metadata": {},
   "outputs": [],
   "source": [
    "PRATIK = {\n",
    "    \"US\": [\n",
    "        'Alabama', 'Alaska', 'Arizona', 'Arkansas', 'California', 'Colorado', \n",
    "        'Connecticut', 'Delaware', 'Florida', 'Georgia', 'Hawaii', 'Idaho', \n",
    "        'Illinois', 'Indiana', 'Iowa', 'Kansas', 'Kentucky', 'Louisiana', \n",
    "        'Maine', 'Maryland', 'Massachusetts', 'Michigan', 'Minnesota', \n",
    "        'Mississippi', 'Missouri', 'Montana', 'Nebraska', 'Nevada', 'New Hampshire', \n",
    "        'New Jersey', 'New Mexico', 'New York', 'North Carolina', 'North Dakota', \n",
    "        'Ohio', 'Oklahoma', 'Oregon', 'Pennsylvania', 'Rhode Island', \n",
    "        'South Carolina', 'South Dakota', 'Tennessee', 'Texas', 'Utah', 'Vermont', \n",
    "        'Virginia', 'Washington', 'West Virginia', 'Wisconsin', 'Wyoming'\n",
    "    ]\n",
    "}"
   ]
  },
  {
   "cell_type": "code",
   "execution_count": 10,
   "id": "c310e6d3",
   "metadata": {},
   "outputs": [
    {
     "name": "stdout",
     "output_type": "stream",
     "text": [
      "22MC1054_PRATIK_BHARADWAJ \n",
      "\n",
      "The states of U.S :\n",
      "Maine\n",
      "Maryland\n",
      "Massachusetts\n",
      "Michigan\n",
      "Minnesota\n",
      "Mississippi\n",
      "Missouri\n",
      "Montana\n"
     ]
    }
   ],
   "source": [
    "print(\"22MC1054_PRATIK_BHARADWAJ \\n\");\n",
    "print(\"The states of U.S :\")\n",
    "for state in PRATIK['US']:\n",
    "    if state.startswith('M'):\n",
    "        print(state)"
   ]
  },
  {
   "cell_type": "markdown",
   "id": "c2ba8c31",
   "metadata": {},
   "source": [
    "# QUESTION 10"
   ]
  },
  {
   "cell_type": "markdown",
   "id": "a7b256bb",
   "metadata": {},
   "source": [
    "## 10. Write a program which accepts a sequence of comma-separated          numbers from console and generate a list and a tuple which           contains every number. Suppose the following input is supplied          to the program: 34, 67, 55, 33, 12, 98. Then, the output should be:          ['34', '67', '55', '33', '12', '98'] ('34',67', '55', '33', '12', '98').  "
   ]
  },
  {
   "cell_type": "code",
   "execution_count": 11,
   "id": "78f8912b",
   "metadata": {
    "scrolled": false
   },
   "outputs": [
    {
     "name": "stdout",
     "output_type": "stream",
     "text": [
      "22MC1054_PRATIK_BHARADWAJ\n",
      "\n",
      " enter values seprated by commas ,  :34, 67, 55, 33, 12, 98\n",
      "<class 'list'>\n",
      "\n",
      " the list is : ['34', ' 67', ' 55', ' 33', ' 12', ' 98']\n",
      "\n",
      " the tuple is : ('34', ' 67', ' 55', ' 33', ' 12', ' 98')\n"
     ]
    }
   ],
   "source": [
    "print(\"22MC1054_PRATIK_BHARADWAJ\");\n",
    "\n",
    "#taking input as string AND making it as list\n",
    "PRATIK = str(input(\"\\n enter values seprated by commas ,  :\")).split(\",\") \n",
    "print(type(PRATIK))\n",
    "num_tuple = tuple(PRATIK)        \n",
    "\n",
    "print(\"\\n the list is :\",PRATIK)  \n",
    "print(\"\\n the tuple is :\",num_tuple)"
   ]
  },
  {
   "cell_type": "markdown",
   "id": "1a04618f",
   "metadata": {},
   "source": [
    "# QUESTION 11"
   ]
  },
  {
   "cell_type": "markdown",
   "id": "f42d161d",
   "metadata": {},
   "source": [
    "## 11.With a given tuple (1, 2, 3, 4, 5, 6, 7, 8, 9, 10), write a program to print the first half values in one line and the last half values in one line "
   ]
  },
  {
   "cell_type": "code",
   "execution_count": 12,
   "id": "3c3cc8a7",
   "metadata": {},
   "outputs": [
    {
     "name": "stdout",
     "output_type": "stream",
     "text": [
      "22MC1054_PRATIK_BHARADWAJ\n",
      "\n",
      " origional tuple : (1, 2, 3, 4, 5, 6, 7, 8, 9, 10)\n",
      "\n",
      " first half : (1, 2, 3, 4, 5)\n",
      "\n",
      " second half : (6, 7, 8, 9, 10)\n"
     ]
    }
   ],
   "source": [
    "print(\"22MC1054_PRATIK_BHARADWAJ\");\n",
    "PRATIK = (1, 2, 3, 4, 5, 6, 7, 8, 9, 10)\n",
    "print(\"\\n origional tuple :\", PRATIK)\n",
    "\n",
    "#for 1st half\n",
    "print(\"\\n first half :\",PRATIK[:len(PRATIK)//2])\n",
    "\n",
    "#for 2nd half\n",
    "print(\"\\n second half :\",PRATIK[len(PRATIK)//2:])\n"
   ]
  },
  {
   "cell_type": "markdown",
   "id": "73117732",
   "metadata": {},
   "source": [
    "# QUESTION 12"
   ]
  },
  {
   "cell_type": "markdown",
   "id": "d6fba5b5",
   "metadata": {},
   "source": [
    "## 12. Find \n",
    "## a) The sum and average of given numbers using lists.\n",
    "## b) To display elements of list in reverse order.\n",
    "## c) Finding the minimum and maximum elements in the lists.  "
   ]
  },
  {
   "cell_type": "code",
   "execution_count": 13,
   "id": "4653c585",
   "metadata": {},
   "outputs": [
    {
     "name": "stdout",
     "output_type": "stream",
     "text": [
      "22MC1054_PRATIK_BHARADWAJ\n",
      "\n",
      " Enter the element of the list sep by comma: 10,20,30,40,50\n",
      "\n",
      " <class 'list'>\n",
      "\n",
      " the sum is : 150\n",
      "\n",
      " the average is : 30.0\n",
      "\n",
      " elements of list in reversed order : [50, 40, 30, 20, 10]\n",
      "\n",
      " the minimum element is : 10\n",
      "\n",
      " the maximum element is : 50\n"
     ]
    }
   ],
   "source": [
    "print(\"22MC1054_PRATIK_BHARADWAJ\");\n",
    "PRATIK = input(\"\\n Enter the element of the list sep by comma: \").split(',')\n",
    "print(\"\\n\",type(PRATIK))\n",
    "\n",
    "#converting elements to a integer\n",
    "PRATIK=[ int(x) for x in PRATIK ]\n",
    "\n",
    "#part a\n",
    "print(\"\\n the sum is :\", sum(PRATIK));\n",
    "print(\"\\n the average is :\", sum(PRATIK)/len(PRATIK));\n",
    "\n",
    "#part b\n",
    "#using slicing\n",
    "print(\"\\n elements of list in reversed order :\", PRATIK[::-1]);\n",
    "\n",
    "#part c\n",
    "print(\"\\n the minimum element is :\",min(PRATIK),);\n",
    "print(\"\\n the maximum element is :\", max(PRATIK))"
   ]
  },
  {
   "cell_type": "code",
   "execution_count": null,
   "id": "85de5fbf",
   "metadata": {},
   "outputs": [],
   "source": []
  }
 ],
 "metadata": {
  "kernelspec": {
   "display_name": "Python 3 (ipykernel)",
   "language": "python",
   "name": "python3"
  },
  "language_info": {
   "codemirror_mode": {
    "name": "ipython",
    "version": 3
   },
   "file_extension": ".py",
   "mimetype": "text/x-python",
   "name": "python",
   "nbconvert_exporter": "python",
   "pygments_lexer": "ipython3",
   "version": "3.9.13"
  }
 },
 "nbformat": 4,
 "nbformat_minor": 5
}
