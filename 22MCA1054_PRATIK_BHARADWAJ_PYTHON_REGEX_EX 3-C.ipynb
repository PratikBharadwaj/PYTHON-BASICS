{
 "cells": [
  {
   "cell_type": "markdown",
   "id": "f729b78f",
   "metadata": {},
   "source": [
    "# REGEX"
   ]
  },
  {
   "cell_type": "markdown",
   "id": "dd9aac00",
   "metadata": {},
   "source": [
    "# 1. Write a Python program to check that a string contains only a certain set of characters (a-z. A-Z and 0-9) using regular expression."
   ]
  },
  {
   "cell_type": "code",
   "execution_count": null,
   "id": "eaa05bad",
   "metadata": {},
   "outputs": [],
   "source": [
    "import re"
   ]
  },
  {
   "cell_type": "code",
   "execution_count": null,
   "id": "9e7bde54",
   "metadata": {
    "scrolled": false
   },
   "outputs": [],
   "source": [
    "def main(string):\n",
    "    \n",
    "    reg = \"^[a-zA-Z0-9]+$\"\n",
    "     \n",
    "    pat = re.compile(reg)\n",
    "               \n",
    "    mat = re.search(pat, string)\n",
    "     \n",
    "    if mat:\n",
    "        print(\"string is valid.\")\n",
    "    else:\n",
    "        print(\"string invalid !!\")\n",
    "\n",
    "string=input('enter a string :')\n",
    "main(string)"
   ]
  },
  {
   "cell_type": "markdown",
   "id": "c088f509",
   "metadata": {},
   "source": [
    "# 2. Write a Python program that matches a string that has an 'a' followed by\n",
    "# a. Zero or more 'b's. For example, a,ab,abbb,...."
   ]
  },
  {
   "cell_type": "code",
   "execution_count": null,
   "id": "96f94271",
   "metadata": {},
   "outputs": [],
   "source": [
    "string = ['a', 'ab', 'abb', 'abbb', 'abbc', 'abbbc']\n",
    "\n",
    "pattern = re.compile(r'a[b]*')\n",
    "\n",
    "print('FOUND :')\n",
    "for strings in string:\n",
    "    if pattern.fullmatch(strings):\n",
    "        print(strings)\n"
   ]
  },
  {
   "cell_type": "markdown",
   "id": "643087ba",
   "metadata": {},
   "source": [
    "# Q2. \n",
    "# b. One or more 'b's. For example, ab,abbc,abbbc,...."
   ]
  },
  {
   "cell_type": "code",
   "execution_count": null,
   "id": "202e8cfd",
   "metadata": {
    "scrolled": true
   },
   "outputs": [],
   "source": [
    "pattern = re.compile(r'a[b]+')\n",
    "\n",
    "print('FOUND :')\n",
    "for strings in string:\n",
    "    if pattern.fullmatch(strings):\n",
    "        print(strings)"
   ]
  },
  {
   "cell_type": "markdown",
   "id": "6ff57e38",
   "metadata": {},
   "source": [
    "# Q2\n",
    "# c. Two to three 'b's. For example, abb,abbb,...."
   ]
  },
  {
   "cell_type": "code",
   "execution_count": null,
   "id": "e3fad267",
   "metadata": {
    "scrolled": true
   },
   "outputs": [],
   "source": [
    "pattern = re.compile(r'a[b]{2,3}')\n",
    "\n",
    "print('FOUND :')\n",
    "for stringS in string:\n",
    "    if pattern.fullmatch(stringS):\n",
    "        print(stringS)"
   ]
  },
  {
   "cell_type": "markdown",
   "id": "23247176",
   "metadata": {},
   "source": [
    "# 3. Write a python program that matches a word containing 'z' in the string \"the quick brown fox jumps over a lazy dog\"."
   ]
  },
  {
   "cell_type": "code",
   "execution_count": null,
   "id": "b0560570",
   "metadata": {
    "scrolled": true
   },
   "outputs": [],
   "source": [
    "string = \"The quick brown fox jumps over the lazy dog\"\n",
    "\n",
    "match = re.findall(r'\\b\\w*z\\w*\\b', string)\n",
    "\n",
    "print(match) "
   ]
  },
  {
   "cell_type": "markdown",
   "id": "b0cd4ad5",
   "metadata": {},
   "source": [
    "# 4. Write a Python program to search the numbers (0-9) of length between 1 to 3 in a given string \"Exercise numbers 1,12,13 and 345 are important\"."
   ]
  },
  {
   "cell_type": "code",
   "execution_count": null,
   "id": "41c86f2a",
   "metadata": {},
   "outputs": [],
   "source": [
    "string = \"Exercises number 1, 12, 13, and 345 are important\"\n",
    "pattern = r\"\\b\\d{1,3}\\b\"\n",
    "\n",
    "match = re.findall(pattern, string)\n",
    "\n",
    "print(match)"
   ]
  },
  {
   "cell_type": "markdown",
   "id": "f2f60e68",
   "metadata": {},
   "source": [
    "# 5. Write a python program to find the substring \"exercises\" within a string \"Python exercises, PHP exercises, C# exercises\"."
   ]
  },
  {
   "cell_type": "code",
   "execution_count": null,
   "id": "52fb3f97",
   "metadata": {},
   "outputs": [],
   "source": [
    "string = \"Python exercises, PHP exercises, C# exercises\"\n",
    "\n",
    "for i in range(string.count('exercises')):\n",
    "    print(\"Substring found!\",match)\n"
   ]
  },
  {
   "cell_type": "markdown",
   "id": "fbcf3de2",
   "metadata": {},
   "source": [
    "# 6. Create your own text file. The text file should have multiple lines of text that should contain the word python.\n",
    "# a) Use regular expression to count the number of times the word \"python\"."
   ]
  },
  {
   "cell_type": "code",
   "execution_count": null,
   "id": "3ceefc68",
   "metadata": {},
   "outputs": [],
   "source": [
    "filename = \"pyhtontext.txt\"\n",
    "word_to_count = \"Python\"\n",
    "count = 0\n",
    "\n",
    "with open(filename, 'r') as file:\n",
    "    for line in file:\n",
    "        matches = re.findall(word_to_count, line)\n",
    "        count += len(matches)\n",
    "\n",
    "print(f\"The word '{word_to_count}' appears {count} times in the file.\")\n"
   ]
  },
  {
   "cell_type": "markdown",
   "id": "d9957840",
   "metadata": {},
   "source": [
    "# Q6\n",
    "# b) With the help of regular expression, search for lines that contains the word \"python\"?"
   ]
  },
  {
   "cell_type": "code",
   "execution_count": null,
   "id": "cc64fccf",
   "metadata": {},
   "outputs": [],
   "source": [
    "lines = open(\"pyhtontext.txt\", \"r\")\n",
    "for line in lines:\n",
    "    if re.search(r\"Python\", line):\n",
    "        print(line, end=\"\")\n"
   ]
  },
  {
   "cell_type": "markdown",
   "id": "f2737007",
   "metadata": {},
   "source": [
    "# Q6\n",
    "# c) Replace a specific word or phrase with another word pr phrase in a text file using regular expression? For example instead of \"python\" use \"java\""
   ]
  },
  {
   "cell_type": "code",
   "execution_count": null,
   "id": "27ba1a8c",
   "metadata": {},
   "outputs": [],
   "source": [
    "file = open(\"pyhtontext.txt\", \"r\")\n",
    "content = file.read()\n",
    "file.close()\n",
    "print('original content :'+'\\n'+content)\n",
    "\n",
    "new_content = re.sub(r\"\\bPython\\b\", \"Java\", content)\n",
    "\n",
    "file = open(\"pyhtontext.txt\", \"w\")\n",
    "file.write(new_content)\n",
    "file.close()\n",
    "\n",
    "file = open(\"pyhtontext.txt\", \"r\")\n",
    "updated_content = file.read()\n",
    "file.close()\n",
    "print('\\n\\n\\nupdated content :'+'\\n'+updated_content)\n"
   ]
  },
  {
   "cell_type": "markdown",
   "id": "a065620d",
   "metadata": {},
   "source": [
    "# 7. Write a python program to validate a password regular expression. Condition for a valid passward are as follows:\n",
    "    a) it should have atleast one number.\n",
    "    b) Should have at least one uppercase and one lowercase character.\n",
    "    c) Should have at least one special symbol.\n",
    "    d) should be between 6 to 20 character long."
   ]
  },
  {
   "cell_type": "code",
   "execution_count": null,
   "id": "7b98dfdc",
   "metadata": {},
   "outputs": [],
   "source": [
    "def pasword_checker():\n",
    "    password = input('enter a password with atleast one upper and one lower case and one number and also one special character to ckeck:')\n",
    "    reg = \"^(?=.*[a-z])(?=.*[A-Z])(?=.*\\d)(?=.*[@$!%*#?&])[A-Za-z\\d@$!#%*?&]{6,20}$\"\n",
    "\n",
    "    pattern = re.compile(reg)\n",
    "            \n",
    "    match = re.search(pattern, password)\n",
    "     \n",
    "    if match:\n",
    "        print(\"Password is valid.\")\n",
    "    else:\n",
    "        print(\"Password invalid !!\")\n",
    "\n",
    "pasword_checker()"
   ]
  },
  {
   "cell_type": "markdown",
   "id": "9c734322",
   "metadata": {},
   "source": [
    "# 8. Extract the protocol and the hostname from given URL\n",
    "'https://www.deeplearning.org/'  in python using regular expression."
   ]
  },
  {
   "cell_type": "code",
   "execution_count": null,
   "id": "02896d4b",
   "metadata": {},
   "outputs": [],
   "source": [
    "URL = 'https://www.deeplearning.org/'\n",
    "\n",
    "protocol = re.findall('(\\w+)://',URL)\n",
    "print(protocol)\n",
    "\n",
    "hostname = re.findall('://www.([\\w\\-\\.]+)',URL)\n",
    "print(hostname)"
   ]
  },
  {
   "cell_type": "markdown",
   "id": "66ac2897",
   "metadata": {},
   "source": [
    "# 9. Extract the protocol and the hostname and the port number for the URL\n",
    "# 'file://localhost:4040/abc_file'. in python using regular expression."
   ]
  },
  {
   "cell_type": "code",
   "execution_count": null,
   "id": "d639738e",
   "metadata": {},
   "outputs": [],
   "source": [
    "URL = 'file://localhost:4040/abc_file'\n",
    "\n",
    "protocol = re.findall('(\\w+)://', URL)\n",
    "print(protocol)\n",
    "\n",
    "hostname = re.findall('://([\\w\\-\\.]+)', URL)\n",
    "print(hostname)\n",
    "\n",
    "port_number = re.findall('://([\\w\\-\\.]+)(:(\\d+))?', URL)\n",
    "print(port_number)"
   ]
  },
  {
   "cell_type": "markdown",
   "id": "2daf7b0a",
   "metadata": {},
   "source": [
    "# 10. How to validate the following Indian mobile numbers using regular expression?\n",
    "The following formats:\n",
    "##### 1. 8880344456\n",
    "##### 2. +918880344456\n",
    "##### 3. +91 8880344456\n",
    "##### 4. +91-8880344456\n",
    "##### 5. 08880344456\n",
    "##### 6. 918880344456  to be verified.\n",
    "   "
   ]
  },
  {
   "cell_type": "code",
   "execution_count": null,
   "id": "ee086d0c",
   "metadata": {},
   "outputs": [],
   "source": [
    "numbers = ['8880344456', '+918880344456', '+91 8880344456', '+91-8880344456', '08880344456', '918880344456']\n",
    "\n",
    "pattern = re.compile(r'^(\\+91[\\-\\s]?)?[0]?(91)?[789]\\d{9}$')\n",
    "\n",
    "for number in numbers:\n",
    "    match = pattern.match(number)\n",
    "    if match:\n",
    "        print(number, 'is a valid Indian mobile number')\n",
    "    else:\n",
    "        print(number, 'is not a valid Indian mobile number')"
   ]
  },
  {
   "cell_type": "markdown",
   "id": "c1f75046",
   "metadata": {},
   "source": [
    "# 11. Verify the validity the email addresses regular expression\n",
    "##### Input: ankitrai326@gmail.com      Output : Valid Email\n",
    "##### Input: my.ownsite@ourearth.org    Output : Valid Email\n",
    "##### Input: ankitrai326.com            Output : Invalid Email\n",
    "##### Input: Anirudh@com                Output : Invalid Email\n",
    "##### Input: 123@.com                   Output : Invalid Email"
   ]
  },
  {
   "cell_type": "code",
   "execution_count": null,
   "id": "444aaffb",
   "metadata": {},
   "outputs": [],
   "source": [
    "def is_valid_email(email):\n",
    "    pattern = re.compile(r'^[a-zA-Z0-9._%+-]+@[a-zA-Z0-9.-]+\\.[a-zA-Z]{2,}$')\n",
    "    return pattern.match(email) is not None\n",
    "\n",
    "emails = ['ankitrai326@gmail.com', 'my.ownsite@ourearth.org', 'ankitrai326.com', 'Anirudh@com', '123@.com']\n",
    "\n",
    "for email in emails:\n",
    "    if is_valid_email(email):\n",
    "        print(email, 'is a valid email')\n",
    "    else:\n",
    "        print(email, 'is an invalid email')"
   ]
  },
  {
   "cell_type": "code",
   "execution_count": null,
   "id": "c4972f25",
   "metadata": {},
   "outputs": [],
   "source": []
  }
 ],
 "metadata": {
  "kernelspec": {
   "display_name": "Python 3 (ipykernel)",
   "language": "python",
   "name": "python3"
  },
  "language_info": {
   "codemirror_mode": {
    "name": "ipython",
    "version": 3
   },
   "file_extension": ".py",
   "mimetype": "text/x-python",
   "name": "python",
   "nbconvert_exporter": "python",
   "pygments_lexer": "ipython3",
   "version": "3.9.13"
  }
 },
 "nbformat": 4,
 "nbformat_minor": 5
}
