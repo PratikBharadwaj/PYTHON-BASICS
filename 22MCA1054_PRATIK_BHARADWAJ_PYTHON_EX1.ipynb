{
 "cells": [
  {
   "cell_type": "markdown",
   "id": "a1a72272",
   "metadata": {},
   "source": [
    "1"
   ]
  },
  {
   "cell_type": "markdown",
   "id": "e42f3610",
   "metadata": {},
   "source": [
    "## 1.Write a program to evaluate the expression          D = (x+y)*z**a//b+c          D = (1+2)*3**2//2+3 "
   ]
  },
  {
   "cell_type": "code",
   "execution_count": null,
   "id": "9517559e",
   "metadata": {},
   "outputs": [],
   "source": [
    "a=2\n",
    "b=2\n",
    "c=3\n",
    "x=1\n",
    "y=2\n",
    "z=3\n",
    "D=(x+y)*z**a//b+c"
   ]
  },
  {
   "cell_type": "code",
   "execution_count": null,
   "id": "b38223e4",
   "metadata": {},
   "outputs": [],
   "source": [
    "D"
   ]
  },
  {
   "cell_type": "code",
   "execution_count": null,
   "id": "d206cbfc",
   "metadata": {},
   "outputs": [],
   "source": [
    "D=(1+2)*3**2//2+3"
   ]
  },
  {
   "cell_type": "code",
   "execution_count": null,
   "id": "d627ba27",
   "metadata": {},
   "outputs": [],
   "source": [
    "D"
   ]
  },
  {
   "cell_type": "markdown",
   "id": "16c34820",
   "metadata": {},
   "source": [
    "# QUESTION:-2"
   ]
  },
  {
   "cell_type": "markdown",
   "id": "651018b2",
   "metadata": {},
   "source": [
    "## 2.Write a program to check whether number is even or not"
   ]
  },
  {
   "cell_type": "code",
   "execution_count": null,
   "id": "471a2774",
   "metadata": {
    "scrolled": true
   },
   "outputs": [],
   "source": [
    "number=input(\"enter the number: \")\n",
    "x = int (number)%2\n",
    "if x == 0:\n",
    "    print('number is even')\n",
    "else:\n",
    "    print('number is odd')\n"
   ]
  },
  {
   "cell_type": "markdown",
   "id": "d7867520",
   "metadata": {},
   "source": [
    "# QUESTION:-3"
   ]
  },
  {
   "cell_type": "markdown",
   "id": "5e9e7bb3",
   "metadata": {},
   "source": [
    "## 3.Write a program to convert the temperature from degree centigrade to fahrenheit F=(9*(int(c))/5) +32 "
   ]
  },
  {
   "cell_type": "code",
   "execution_count": null,
   "id": "8ca18288",
   "metadata": {},
   "outputs": [],
   "source": [
    "c = input(\"enter the number in celcious\")\n",
    "f = (9*(int(c))/5)+32\n",
    "print(\"number in farenheight\", f)"
   ]
  },
  {
   "cell_type": "markdown",
   "id": "f58420e1",
   "metadata": {},
   "source": [
    "# QUESTION:-4"
   ]
  },
  {
   "cell_type": "markdown",
   "id": "3cfc1eba",
   "metadata": {},
   "source": [
    "## 4.Write a program to find the average of a set of n numbers "
   ]
  },
  {
   "cell_type": "code",
   "execution_count": null,
   "id": "a0aae672",
   "metadata": {
    "scrolled": true
   },
   "outputs": [],
   "source": [
    "count= int(input(\"Enter the count of numbers: \"))\n",
    "i =0\n",
    "sum=0\n",
    "for i in range(count):\n",
    "    x = int(input(\"enter an integer: \"))\n",
    "    sum = sum + x\n",
    "avg = sum/count\n",
    "print(\"the average is: \",avg)\n",
    "           "
   ]
  },
  {
   "cell_type": "markdown",
   "id": "a39993c0",
   "metadata": {},
   "source": [
    "# QUESTION:-5"
   ]
  },
  {
   "cell_type": "markdown",
   "id": "98754ed4",
   "metadata": {},
   "source": [
    "## 5.Write a program to find the product of a set of real numbers"
   ]
  },
  {
   "cell_type": "code",
   "execution_count": null,
   "id": "c3502d26",
   "metadata": {
    "scrolled": true
   },
   "outputs": [],
   "source": [
    "count= int(input(\"Enter the count of real numbers: \"))\n",
    "i =0\n",
    "product =1\n",
    "for i in range(count):\n",
    "    x = float(input(\"enter an floating number: \"))\n",
    "    product = product * x\n",
    "print(\"the product of real number is: \",product)"
   ]
  },
  {
   "cell_type": "markdown",
   "id": "5e11287f",
   "metadata": {},
   "source": [
    "# QUESTION:-6"
   ]
  },
  {
   "cell_type": "markdown",
   "id": "88aef25b",
   "metadata": {},
   "source": [
    "## 6.Write a program to find the circumference and area of a circle given the radius"
   ]
  },
  {
   "cell_type": "code",
   "execution_count": null,
   "id": "2350dd55",
   "metadata": {},
   "outputs": [],
   "source": [
    "r= int(input(\"enter thye radius\"))\n",
    "area=3.148*r*r\n",
    "print(\"area of circle\", area)"
   ]
  },
  {
   "cell_type": "code",
   "execution_count": null,
   "id": "e34afa7e",
   "metadata": {
    "scrolled": true
   },
   "outputs": [],
   "source": [
    "c=2*3.148*r**2\n",
    "print(\"circumference of a circle\", c)"
   ]
  },
  {
   "cell_type": "markdown",
   "id": "f8d3f12c",
   "metadata": {},
   "source": [
    "# QUESTION:-7"
   ]
  },
  {
   "cell_type": "markdown",
   "id": "e250570e",
   "metadata": {},
   "source": [
    "## 7.Write a program to display the given integer in a reverse manner "
   ]
  },
  {
   "cell_type": "code",
   "execution_count": null,
   "id": "e8e48616",
   "metadata": {
    "scrolled": true
   },
   "outputs": [],
   "source": [
    "num = 123456\n",
    "print(str(num)[::-1])"
   ]
  },
  {
   "cell_type": "markdown",
   "id": "0eb779a9",
   "metadata": {},
   "source": [
    "# QUESTION:-8"
   ]
  },
  {
   "cell_type": "markdown",
   "id": "d2d93bb4",
   "metadata": {},
   "source": [
    "## 8.Write a program to display all numbers of multiples of 3 within the range 10 to 50. "
   ]
  },
  {
   "cell_type": "code",
   "execution_count": null,
   "id": "815e0339",
   "metadata": {},
   "outputs": [],
   "source": [
    "for x in range(10, 50):\n",
    "    if x % 3 == 0:\n",
    "        print(\"THREE\", x)"
   ]
  },
  {
   "cell_type": "markdown",
   "id": "4a55e8ec",
   "metadata": {},
   "source": [
    "# QUESTION:-9"
   ]
  },
  {
   "cell_type": "markdown",
   "id": "7cc2e527",
   "metadata": {},
   "source": [
    "## 9.Write a program to generate the prime numbers from 1 to N "
   ]
  },
  {
   "cell_type": "code",
   "execution_count": null,
   "id": "72488528",
   "metadata": {
    "scrolled": true
   },
   "outputs": [],
   "source": [
    "# calculating for 2 to n as 1 is not  prime number\n",
    "n=int(input(\"enter the from 2 to ?: \"))\n",
    "for num in range(2,n):\n",
    "    prime = True\n",
    "    for i in range(2,num):\n",
    "        if (num%i==0):\n",
    "            prime = False\n",
    "    if prime:\n",
    "       print (num)"
   ]
  },
  {
   "cell_type": "markdown",
   "id": "885f6d72",
   "metadata": {},
   "source": [
    "# QUESTION:-10"
   ]
  },
  {
   "cell_type": "markdown",
   "id": "b6ff41f7",
   "metadata": {},
   "source": [
    "## 10. Write a program to find the roots of a quadratic equation"
   ]
  },
  {
   "cell_type": "code",
   "execution_count": null,
   "id": "ab50c91b",
   "metadata": {},
   "outputs": [],
   "source": [
    "# import complex math module\n",
    "# general equation for quadratic equation ax^2 + bx +c = 0\n",
    "# and x = (-b-cmath.sqrt(d))/(2 * a)\n",
    "# and d = (b**2) - (4 * a*c)\n",
    "import cmath\n",
    "\n",
    "a = 1\n",
    "b = 2\n",
    "c = 1\n",
    "\n",
    "# calculating the discriminant\n",
    "d = (b**2) - (4 * a*c)\n",
    "\n",
    "# find two roots\n",
    "x1 = (-b-cmath.sqrt(d))/(2 * a)\n",
    "x2 = (-b + cmath.sqrt(d))/(2 * a)\n",
    "\n",
    "# printing the roots\n",
    "print('The roots are')\n",
    "print(x1)\n",
    "print(x2)\n"
   ]
  },
  {
   "cell_type": "markdown",
   "id": "6bc01565",
   "metadata": {},
   "source": [
    "# QUESTION:-11"
   ]
  },
  {
   "cell_type": "markdown",
   "id": "75dbfa9a",
   "metadata": {},
   "source": [
    "## 11.Write a program to find the factorial of a given number using recursion "
   ]
  },
  {
   "cell_type": "code",
   "execution_count": null,
   "id": "1d4911f7",
   "metadata": {
    "scrolled": false
   },
   "outputs": [],
   "source": [
    "def recur_factorial(n):\n",
    "   if n == 1:\n",
    "       return n\n",
    "   else:\n",
    "       return n*recur_factorial(n-1)\n",
    "\n",
    "num = int(input(\"enter the number :\"))\n",
    "\n",
    "if num < 0:\n",
    "   print(\"Sorry, factorial does not exist for negative numbers\")\n",
    "elif num == 0:\n",
    "   print(\"The factorial of 0 is 1\")\n",
    "else:\n",
    "   print(\"The factorial of\", num, \"is\", recur_factorial(num))"
   ]
  },
  {
   "cell_type": "markdown",
   "id": "9add961b",
   "metadata": {},
   "source": [
    "# QUESTION:-12"
   ]
  },
  {
   "cell_type": "markdown",
   "id": "0157361e",
   "metadata": {},
   "source": [
    "## 12.Write a program to find the Nth term in a Fibonacci series using recursion "
   ]
  },
  {
   "cell_type": "code",
   "execution_count": null,
   "id": "aeba3e26",
   "metadata": {},
   "outputs": [],
   "source": [
    "a=int(input(\"Enter the terms\"))\n",
    "f=0 \n",
    "s=1\n",
    "if a<=0:\n",
    "    print(\"The requested series is \",f)\n",
    "else:\n",
    "    print(f,s,end=\" \")\n",
    "    for x in range(2,a):\n",
    "        next=f+s                           \n",
    "        print(next,end=\" \")\n",
    "        f=s\n",
    "        s=next"
   ]
  },
  {
   "cell_type": "code",
   "execution_count": null,
   "id": "cd2f2837",
   "metadata": {},
   "outputs": [],
   "source": []
  }
 ],
 "metadata": {
  "kernelspec": {
   "display_name": "Python 3 (ipykernel)",
   "language": "python",
   "name": "python3"
  },
  "language_info": {
   "codemirror_mode": {
    "name": "ipython",
    "version": 3
   },
   "file_extension": ".py",
   "mimetype": "text/x-python",
   "name": "python",
   "nbconvert_exporter": "python",
   "pygments_lexer": "ipython3",
   "version": "3.9.13"
  }
 },
 "nbformat": 4,
 "nbformat_minor": 5
}
