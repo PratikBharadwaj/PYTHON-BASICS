{
 "cells": [
  {
   "cell_type": "markdown",
   "id": "4d9def9c",
   "metadata": {},
   "source": [
    "# SET&DICTIONARY"
   ]
  },
  {
   "cell_type": "markdown",
   "id": "60249e98",
   "metadata": {},
   "source": [
    "## Write a program to sort dictionary values in python. dict1 = {'key 1': 'Apple', 'key 2':'Mango', key 3': 'Papaya\"}"
   ]
  },
  {
   "cell_type": "code",
   "execution_count": null,
   "id": "fbbcd89a",
   "metadata": {},
   "outputs": [],
   "source": [
    "dict1 = {'key 1': 'Apple', 'key 2':'Mango', 'key 3': 'Papaya'}\n",
    "sorted_values = sorted(dict1.values())\n",
    "print(sorted_values)"
   ]
  },
  {
   "cell_type": "markdown",
   "id": "c05a4219",
   "metadata": {},
   "source": [
    "## Write a program in python to map keys to dictionary. key['Fruit', 'Vegetable'] value=['Mango', 'Tomato\"]"
   ]
  },
  {
   "cell_type": "code",
   "execution_count": null,
   "id": "898c4371",
   "metadata": {},
   "outputs": [],
   "source": [
    "key=['Fruit','Vegetable']\n",
    "value=['Mango','Tomato']\n",
    "res = {}\n",
    "for k in key:\n",
    "    for v in value:\n",
    "        res[k] = v\n",
    "        value.remove(v)\n",
    "        break\n",
    "\n",
    "\n",
    "print(str(res))"
   ]
  },
  {
   "cell_type": "markdown",
   "id": "5fc557f6",
   "metadata": {},
   "source": [
    "## Write a Python program to create a dictionary of keys x, y, and z where each key has as value a list from 11-20, 21-30, and 31-40 respectively. Access the fifth value of each key from the dictionary."
   ]
  },
  {
   "cell_type": "code",
   "execution_count": null,
   "id": "5958828b",
   "metadata": {},
   "outputs": [],
   "source": [
    "dictionary = {'x': list(range(11, 21)),\n",
    "              'y': list(range(21, 31)),\n",
    "              'z': list(range(31, 41))}\n",
    "              \n",
    "print(dictionary['x'][4])\n",
    "print(dictionary['y'][4])\n",
    "print(dictionary['z'][4])"
   ]
  },
  {
   "cell_type": "markdown",
   "id": "ceef1b2a",
   "metadata": {},
   "source": [
    "## Write a Python script to print a dictionary where the keys are numbers between 1 and 15 (both included) and the values are the square of the keys"
   ]
  },
  {
   "cell_type": "code",
   "execution_count": null,
   "id": "749efda7",
   "metadata": {},
   "outputs": [],
   "source": [
    "val={}\n",
    "for i in range(1,16):\n",
    " val[i]=pow(i,2)\n",
    " \n",
    "print(val)"
   ]
  },
  {
   "cell_type": "markdown",
   "id": "a6906667",
   "metadata": {},
   "source": [
    "## Perform the python set operations (union, intersection, difference and symmetric difference) for the following input A = {0, 2, 4, 6, 8} B= (1, 2, 3, 4, 5)"
   ]
  },
  {
   "cell_type": "code",
   "execution_count": null,
   "id": "85e40a2e",
   "metadata": {},
   "outputs": [],
   "source": [
    "A={0,2,4,6,8}\n",
    "B={1,2,3,4,5}\n",
    "print(\"Union:\",A.union(B))\n",
    "print(\"Intersection:\",A.intersection(B))\n",
    "print(\"Difference:\",A.difference(B))\n",
    "print(\"Symmetric Difference:\",A.symmetric_difference(B))"
   ]
  },
  {
   "cell_type": "markdown",
   "id": "8610e7a4",
   "metadata": {},
   "source": [
    "## John is a data analyst who is analyzing a large dataset. He wants to remove all the duplicate entries from the dataset. How can John use a set to remove the duplicates?"
   ]
  },
  {
   "cell_type": "code",
   "execution_count": null,
   "id": "6c1d3006",
   "metadata": {},
   "outputs": [],
   "source": [
    "import pandas as pd\n",
    "data = pd.read_csv(\"cardata.csv\")\n",
    "df = data.head(30)\n",
    "carList = df[\"Year\"].tolist()\n",
    "\n",
    "print(\"Original List: \", carList)\n",
    "res = [*set(carList)]\n",
    "print(\"List after removing duplicate elements: \", res)"
   ]
  },
  {
   "cell_type": "markdown",
   "id": "5eb7ce98",
   "metadata": {},
   "source": [
    "## Alice is librarian who wants to keep track of the books in her collection. She decides to use a dictionary to store each book's title and its corresponding author. How can Alice use this dictionary to quickly find the author of a particular book?"
   ]
  },
  {
   "cell_type": "code",
   "execution_count": null,
   "id": "1b1081f1",
   "metadata": {},
   "outputs": [],
   "source": [
    "def FindBook(auth):\n",
    "    books = {\n",
    "    'The Great Gatsby': 'F. Scott Fitzgerald',\n",
    "    'To Kill a Mockingbird': 'Harper Lee',\n",
    "    '1984': 'George Orwell',\n",
    "    'Pride and Prejudice': 'Jane Austen',\n",
    "    'The Catcher in the Rye': 'J.D. Salinger'\n",
    "}\n",
    "    if auth in books:\n",
    "        print(books[auth])\n",
    "        \n",
    "        \n",
    "a=input(\"Enter input: \")\n",
    "FindBook(a)"
   ]
  },
  {
   "cell_type": "markdown",
   "id": "307afe3c",
   "metadata": {},
   "source": [
    "## David is a teacher who wants to ensure that each student only submits one assignment. He decides to create a set of the submitted assignments. How can David use this set to keep track of the submitted assignments and prevent duplicates?"
   ]
  },
  {
   "cell_type": "code",
   "execution_count": null,
   "id": "0b9f6f2a",
   "metadata": {},
   "outputs": [],
   "source": [
    "submitted_assignments = {}\n",
    "def submit_assignment(assignment):\n",
    "    if assignment in submitted_assignments:\n",
    "        print(\"This assignment has already been submitted.\")\n",
    "    else:\n",
    "        submitted_assignments.add(assignment)\n",
    "        print(\"Assignment submitted successfully.\")\n",
    "choice=0\n",
    "while(True):\n",
    "    choice=int(input(\"Enter choice:\"))\n",
    "    if choice==0:\n",
    "        break\n",
    "    else:\n",
    "        assignment=input(\"Enter the Assignment: \")\n",
    "        submit_assignment(\"assignment\")"
   ]
  },
  {
   "cell_type": "code",
   "execution_count": null,
   "id": "64409cea",
   "metadata": {},
   "outputs": [],
   "source": [
    "# Create an empty set for submitted assignments\n",
    "submitted_assignments = set()\n",
    "\n",
    "# Define a function for submitting assignments\n",
    "def submit_assignment(assignment):\n",
    "    # Check if the assignment has already been submitted\n",
    "    if assignment in submitted_assignments:\n",
    "        print(\"This assignment has already been submitted.\")\n",
    "    else:\n",
    "        # Add the assignment to the submitted assignments set\n",
    "        submitted_assignments.add(assignment)\n",
    "        print(\"Assignment submitted successfully.\")\n",
    "\n",
    "# Example usage\n",
    "submit_assignment(\"Assignment1\")  # Prints \"Assignment submitted successfully.\"\n",
    "submit_assignment(\"Assignment2\")  # Prints \"Assignment submitted successfully.\"\n",
    "submit_assignment(\"Assignment1\")  # Prints \"This assignment has already been submitted.\""
   ]
  },
  {
   "cell_type": "code",
   "execution_count": null,
   "id": "65636f9a",
   "metadata": {},
   "outputs": [],
   "source": []
  }
 ],
 "metadata": {
  "kernelspec": {
   "display_name": "Python 3 (ipykernel)",
   "language": "python",
   "name": "python3"
  },
  "language_info": {
   "codemirror_mode": {
    "name": "ipython",
    "version": 3
   },
   "file_extension": ".py",
   "mimetype": "text/x-python",
   "name": "python",
   "nbconvert_exporter": "python",
   "pygments_lexer": "ipython3",
   "version": "3.9.13"
  }
 },
 "nbformat": 4,
 "nbformat_minor": 5
}
